{
 "cells": [
  {
   "cell_type": "markdown",
   "source": [
    "# Search Stations\n",
    "\n",
    "Search stations based on location proximity."
   ],
   "metadata": {}
  },
  {
   "cell_type": "code",
   "execution_count": 1,
   "source": [
    "import numpy as np\n",
    "import pandas as pd\n",
    "\n",
    "df = pd.read_csv(\"/Users/zmy/GSOD/isd-history.csv\")\n",
    "\n",
    "# 0.0 are missing values\n",
    "ma = np.ma.masked_equal(np.asarray(df[[\"LAT\", \"LON\"]]), 0.0)"
   ],
   "outputs": [],
   "metadata": {}
  },
  {
   "cell_type": "code",
   "execution_count": 2,
   "source": [
    "LOCATION = np.asarray([25.01218114, 102.70259461])\n",
    "# Number of closest ones to print\n",
    "MAXYIELD = 5"
   ],
   "outputs": [],
   "metadata": {}
  },
  {
   "cell_type": "code",
   "execution_count": 3,
   "source": [
    "distance = np.sum((ma - LOCATION) ** 2, axis=1)\n",
    "indices = np.argsort(distance)\n",
    "indices"
   ],
   "outputs": [
    {
     "output_type": "execute_result",
     "data": {
      "text/plain": [
       "array([12088, 12094, 22119, ..., 14723, 14679, 14788])"
      ]
     },
     "metadata": {},
     "execution_count": 3
    }
   ],
   "metadata": {}
  },
  {
   "cell_type": "code",
   "execution_count": 4,
   "source": [
    "for n in range(MAXYIELD):\n",
    "    print(f\"Result {n}\")\n",
    "    print(df.T[indices[n]])"
   ],
   "outputs": [
    {
     "output_type": "stream",
     "name": "stdout",
     "text": [
      "Result 0\n",
      "USAF              567780\n",
      "WBAN               99999\n",
      "STATION NAME     WUJIABA\n",
      "CTRY                  CH\n",
      "STATE                NaN\n",
      "ICAO                ZPPP\n",
      "LAT               24.992\n",
      "LON              102.744\n",
      "ELEV(M)           1894.9\n",
      "BEGIN           19420713\n",
      "END             20210723\n",
      "Name: 12088, dtype: object\n",
      "Result 1\n",
      "USAF              568750\n",
      "WBAN               99999\n",
      "STATION NAME        YUXI\n",
      "CTRY                  CH\n",
      "STATE                NaN\n",
      "ICAO                 NaN\n",
      "LAT                24.45\n",
      "LON              102.567\n",
      "ELEV(M)           1677.0\n",
      "BEGIN           19591209\n",
      "END             20100424\n",
      "Name: 12094, dtype: object\n",
      "Result 2\n",
      "USAF                749321\n",
      "WBAN                 99999\n",
      "STATION NAME    YANG-CHIEH\n",
      "CTRY                    CH\n",
      "STATE                  NaN\n",
      "ICAO                   NaN\n",
      "LAT                   25.5\n",
      "LON                103.083\n",
      "ELEV(M)             1955.0\n",
      "BEGIN             19430217\n",
      "END               19451031\n",
      "Name: 22119, dtype: object\n",
      "Result 3\n",
      "USAF                   567770\n",
      "WBAN                    99999\n",
      "STATION NAME    JINSHAN NORTH\n",
      "CTRY                       CH\n",
      "STATE                     NaN\n",
      "ICAO                      NaN\n",
      "LAT                     25.15\n",
      "LON                   102.083\n",
      "ELEV(M)                1580.0\n",
      "BEGIN                19740421\n",
      "END                  19741202\n",
      "Name: 12087, dtype: object\n",
      "Result 4\n",
      "USAF                        567760\n",
      "WBAN                         99999\n",
      "STATION NAME    APPROXIMATE LOCALE\n",
      "CTRY                            CH\n",
      "STATE                          NaN\n",
      "ICAO                           NaN\n",
      "LAT                         25.633\n",
      "LON                        102.967\n",
      "ELEV(M)                        0.0\n",
      "BEGIN                     19731113\n",
      "END                       20011229\n",
      "Name: 12086, dtype: object\n"
     ]
    }
   ],
   "metadata": {}
  }
 ],
 "metadata": {
  "orig_nbformat": 4,
  "language_info": {
   "name": "python",
   "version": "3.9.6",
   "mimetype": "text/x-python",
   "codemirror_mode": {
    "name": "ipython",
    "version": 3
   },
   "pygments_lexer": "ipython3",
   "nbconvert_exporter": "python",
   "file_extension": ".py"
  },
  "kernelspec": {
   "name": "python3",
   "display_name": "Python 3.9.6 64-bit ('tfmacos': conda)"
  },
  "interpreter": {
   "hash": "f99daee9da00cad97164893551c620e324ab25062d17d369bc043b9ae7fe2d36"
  }
 },
 "nbformat": 4,
 "nbformat_minor": 2
}