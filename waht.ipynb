{
 "cells": [
  {
   "cell_type": "code",
   "execution_count": 1,
   "metadata": {
    "scrolled": true
   },
   "outputs": [],
   "source": [
    "import math\n",
    "import random\n",
    "import matplotlib.pyplot as plt\n",
    "%matplotlib inline\n",
    "import tensorflow as tf\n",
    "from publicMethod import *\n",
    "time = Timer()"
   ]
  },
  {
   "cell_type": "code",
   "execution_count": 2,
   "metadata": {
    "pycharm": {
     "name": "#%%\n"
    },
    "scrolled": true
   },
   "outputs": [],
   "source": [
    "# get train and test data form op\n",
    "file_name = \"data/GSOD_2021/010010-99999-2021.op\"\n",
    "avg_data, min_data, max_data = open_file(file_name)\n",
    "(train_data, train_label), (test_data, test_label) = generate(int(0.75*len(avg_data)), avg_data)"
   ]
  },
  {
   "cell_type": "code",
   "execution_count": 3,
   "metadata": {},
   "outputs": [
    {
     "name": "stdout",
     "output_type": "stream",
     "text": [
      "[[23.4 31.5 35.  ... 27.5 23.6 18.7]\n",
      " [31.5 35.  35.4 ... 23.6 18.7 26.9]\n",
      " [35.  35.4 27.5 ... 18.7 26.9 31.7]\n",
      " ...\n",
      " [38.7 38.1 37.1 ... 38.  39.4 40.9]\n",
      " [38.1 37.1 36.9 ... 39.4 40.9 40.2]\n",
      " [37.1 36.9 38.  ... 40.9 40.2 39.4]] [31.7 32.1 31.9 29.2 29.5 33.5 32.5 32.2 33.9]\n"
     ]
    }
   ],
   "source": [
    "print(train_data, train_label[0:9])"
   ]
  },
  {
   "cell_type": "code",
   "execution_count": 4,
   "metadata": {
    "pycharm": {
     "name": "#%%\n"
    },
    "scrolled": true
   },
   "outputs": [],
   "source": [
    "# data iter updater\n",
    "def data_iter(batch_size, features, labels):\n",
    "    num_examples = len(features)\n",
    "    indices = list(range(num_examples))\n",
    "    # 这些样本是随机读取的，没有特定的顺序\n",
    "    random.shuffle(indices)\n",
    "    for i in range(0, num_examples, batch_size):\n",
    "        j = tf.constant(indices[i:min(i + batch_size, num_examples)])\n",
    "        \"\"\"print(tf.gather(features, j), tf.gather(labels, j))\"\"\"\n",
    "        yield tf.gather(features, j), tf.gather(labels, j)"
   ]
  },
  {
   "cell_type": "code",
   "execution_count": 5,
   "metadata": {
    "pycharm": {
     "name": "#%%\n"
    },
    "scrolled": true
   },
   "outputs": [],
   "source": [
    "# 初始化模型参数\n",
    "w = tf.Variable(tf.random.normal(shape=(20, 1), mean=0, stddev=0.01),\n",
    "                trainable=True)\n",
    "b = tf.Variable(tf.zeros(1), trainable=True)"
   ]
  },
  {
   "cell_type": "code",
   "execution_count": 33,
   "metadata": {
    "pycharm": {
     "name": "#%%\n"
    },
    "scrolled": true
   },
   "outputs": [],
   "source": [
    "# 定义模型\n",
    "def linreg(X, w, b): #@save\n",
    "    y_true = list(np.empty(len(X[:, 0])))\n",
    "    print(X[:, 0])\n",
    "    for i in range(len(X[0, :])):\n",
    "        re1 = np.full(w.shape[0],X[:, 0][i]) ** np.arange(w.shape[0])\n",
    "        re2 = np.multiply(re1, w[0])\n",
    "        re3 = np.add(re2, np.full(w.shape[0], b))\n",
    "        y_true[i] = np.sum(re3)\n",
    "        print(np.array(y_true))\n",
    "    return np.array(y_true)\n"
   ]
  },
  {
   "cell_type": "code",
   "execution_count": 30,
   "metadata": {
    "pycharm": {
     "name": "#%%\n"
    },
    "scrolled": true
   },
   "outputs": [],
   "source": [
    "# 定义损失函数\n",
    "def squared_loss(y_hat, y):\n",
    "    \"\"\"均方损失。\"\"\"\n",
    "    return (y_hat.T - tf.reshape(y, y_hat.shape))**2 / 2"
   ]
  },
  {
   "cell_type": "code",
   "execution_count": 31,
   "metadata": {
    "pycharm": {
     "name": "#%%\n"
    },
    "scrolled": true
   },
   "outputs": [],
   "source": [
    "# 定义优化算法\n",
    "def sgd(params, grads, lr, batch_size):  #@save\n",
    "    \"\"\"小批量随机梯度下降。\"\"\"\n",
    "    for param, grad in zip(params, grads):\n",
    "        param.assign_sub(lr * grad / batch_size)"
   ]
  },
  {
   "cell_type": "code",
   "execution_count": 34,
   "metadata": {
    "pycharm": {
     "name": "#%%\n"
    },
    "scrolled": true
   },
   "outputs": [
    {
     "name": "stdout",
     "output_type": "stream",
     "text": [
      "tf.Tensor([21.6 37.7 33.5 26.5 25.7 30.1 28.5 33.9 33.3], shape=(9,), dtype=float64)\n",
      "[-2.08450555e+22 -6.75089301e+24 -7.64675898e+25 -1.07298418e+26\n",
      " -6.51015290e+23 -2.71468295e+26 -1.07298418e+26 -1.53791408e+25\n",
      " -7.64675898e+25]\n",
      "[-2.08450555e+22 -8.05297209e+26 -7.64675898e+25 -1.07298418e+26\n",
      " -6.51015290e+23 -2.71468295e+26 -1.07298418e+26 -1.53791408e+25\n",
      " -7.64675898e+25]\n",
      "[-2.08450555e+22 -8.05297209e+26 -8.56659102e+25 -1.07298418e+26\n",
      " -6.51015290e+23 -2.71468295e+26 -1.07298418e+26 -1.53791408e+25\n",
      " -7.64675898e+25]\n",
      "[-2.08450555e+22 -8.05297209e+26 -8.56659102e+25 -1.00501502e+24\n",
      " -6.51015290e+23 -2.71468295e+26 -1.07298418e+26 -1.53791408e+25\n",
      " -7.64675898e+25]\n",
      "[-2.08450555e+22 -8.05297209e+26 -8.56659102e+25 -1.00501502e+24\n",
      " -5.62031643e+23 -2.71468295e+26 -1.07298418e+26 -1.53791408e+25\n",
      " -7.64675898e+25]\n",
      "[-2.08450555e+22 -8.05297209e+26 -8.56659102e+25 -1.00501502e+24\n",
      " -5.62031643e+23 -1.12520636e+25 -1.07298418e+26 -1.53791408e+25\n",
      " -7.64675898e+25]\n",
      "[-2.08450555e+22 -8.05297209e+26 -8.56659102e+25 -1.00501502e+24\n",
      " -5.62031643e+23 -1.12520636e+25 -3.99355583e+24 -1.53791408e+25\n",
      " -7.64675898e+25]\n",
      "tf.Tensor([21.6 37.7 33.5 26.5 25.7 30.1 28.5 33.9 33.3], shape=(9,), dtype=float64)\n",
      "[-2.08450555e+22 -6.75089301e+24 -7.64675898e+25 -1.07298418e+26\n",
      " -6.51015290e+23 -2.71468295e+26 -1.07298418e+26 -1.53791408e+25\n",
      " -7.64675898e+25]\n",
      "[-2.08450555e+22 -8.05297209e+26 -7.64675898e+25 -1.07298418e+26\n",
      " -6.51015290e+23 -2.71468295e+26 -1.07298418e+26 -1.53791408e+25\n",
      " -7.64675898e+25]\n",
      "[-2.08450555e+22 -8.05297209e+26 -8.56659102e+25 -1.07298418e+26\n",
      " -6.51015290e+23 -2.71468295e+26 -1.07298418e+26 -1.53791408e+25\n",
      " -7.64675898e+25]\n",
      "[-2.08450555e+22 -8.05297209e+26 -8.56659102e+25 -1.00501502e+24\n",
      " -6.51015290e+23 -2.71468295e+26 -1.07298418e+26 -1.53791408e+25\n",
      " -7.64675898e+25]\n",
      "[-2.08450555e+22 -8.05297209e+26 -8.56659102e+25 -1.00501502e+24\n",
      " -5.62031643e+23 -2.71468295e+26 -1.07298418e+26 -1.53791408e+25\n",
      " -7.64675898e+25]\n",
      "[-2.08450555e+22 -8.05297209e+26 -8.56659102e+25 -1.00501502e+24\n",
      " -5.62031643e+23 -1.12520636e+25 -1.07298418e+26 -1.53791408e+25\n",
      " -7.64675898e+25]\n",
      "[-2.08450555e+22 -8.05297209e+26 -8.56659102e+25 -1.00501502e+24\n",
      " -5.62031643e+23 -1.12520636e+25 -3.99355583e+24 -1.53791408e+25\n",
      " -7.64675898e+25]\n"
     ]
    },
    {
     "ename": "TypeError",
     "evalue": "unsupported operand type(s) for *: 'float' and 'NoneType'",
     "output_type": "error",
     "traceback": [
      "\u001b[0;31m---------------------------------------------------------------------------\u001b[0m",
      "\u001b[0;31mTypeError\u001b[0m                                 Traceback (most recent call last)",
      "\u001b[0;32m<ipython-input-34-6ad54ebd7ac9>\u001b[0m in \u001b[0;36m<module>\u001b[0;34m\u001b[0m\n\u001b[1;32m     14\u001b[0m         \u001b[0mdw\u001b[0m\u001b[0;34m,\u001b[0m \u001b[0mdb\u001b[0m \u001b[0;34m=\u001b[0m \u001b[0mg\u001b[0m\u001b[0;34m.\u001b[0m\u001b[0mgradient\u001b[0m\u001b[0;34m(\u001b[0m\u001b[0ml\u001b[0m\u001b[0;34m,\u001b[0m \u001b[0;34m[\u001b[0m\u001b[0mw\u001b[0m\u001b[0;34m,\u001b[0m \u001b[0mb\u001b[0m\u001b[0;34m]\u001b[0m\u001b[0;34m)\u001b[0m\u001b[0;34m\u001b[0m\u001b[0;34m\u001b[0m\u001b[0m\n\u001b[1;32m     15\u001b[0m         \u001b[0;31m# 使用参数的梯度更新参数\u001b[0m\u001b[0;34m\u001b[0m\u001b[0;34m\u001b[0m\u001b[0;34m\u001b[0m\u001b[0m\n\u001b[0;32m---> 16\u001b[0;31m         \u001b[0msgd\u001b[0m\u001b[0;34m(\u001b[0m\u001b[0;34m[\u001b[0m\u001b[0mw\u001b[0m\u001b[0;34m,\u001b[0m \u001b[0mb\u001b[0m\u001b[0;34m]\u001b[0m\u001b[0;34m,\u001b[0m \u001b[0;34m[\u001b[0m\u001b[0mdw\u001b[0m\u001b[0;34m,\u001b[0m \u001b[0mdb\u001b[0m\u001b[0;34m]\u001b[0m\u001b[0;34m,\u001b[0m \u001b[0mlr\u001b[0m\u001b[0;34m,\u001b[0m \u001b[0mbatch_size\u001b[0m\u001b[0;34m)\u001b[0m\u001b[0;34m\u001b[0m\u001b[0;34m\u001b[0m\u001b[0m\n\u001b[0m\u001b[1;32m     17\u001b[0m     \u001b[0mtrain_l\u001b[0m \u001b[0;34m=\u001b[0m \u001b[0mloss\u001b[0m\u001b[0;34m(\u001b[0m\u001b[0mnet\u001b[0m\u001b[0;34m(\u001b[0m\u001b[0mtrain_data\u001b[0m\u001b[0;34m,\u001b[0m \u001b[0mw\u001b[0m\u001b[0;34m,\u001b[0m \u001b[0mb\u001b[0m\u001b[0;34m)\u001b[0m\u001b[0;34m,\u001b[0m \u001b[0mtrain_label\u001b[0m\u001b[0;34m)\u001b[0m\u001b[0;34m\u001b[0m\u001b[0;34m\u001b[0m\u001b[0m\n\u001b[1;32m     18\u001b[0m     \u001b[0mprint\u001b[0m\u001b[0;34m(\u001b[0m\u001b[0;34mf'epoch {epoch + 1}, loss {float(tf.reduce_mean(train_l)):f}'\u001b[0m\u001b[0;34m)\u001b[0m\u001b[0;34m\u001b[0m\u001b[0;34m\u001b[0m\u001b[0m\n",
      "\u001b[0;32m<ipython-input-31-59ad433a1ac5>\u001b[0m in \u001b[0;36msgd\u001b[0;34m(params, grads, lr, batch_size)\u001b[0m\n\u001b[1;32m      3\u001b[0m     \u001b[0;34m\"\"\"小批量随机梯度下降。\"\"\"\u001b[0m\u001b[0;34m\u001b[0m\u001b[0;34m\u001b[0m\u001b[0m\n\u001b[1;32m      4\u001b[0m     \u001b[0;32mfor\u001b[0m \u001b[0mparam\u001b[0m\u001b[0;34m,\u001b[0m \u001b[0mgrad\u001b[0m \u001b[0;32min\u001b[0m \u001b[0mzip\u001b[0m\u001b[0;34m(\u001b[0m\u001b[0mparams\u001b[0m\u001b[0;34m,\u001b[0m \u001b[0mgrads\u001b[0m\u001b[0;34m)\u001b[0m\u001b[0;34m:\u001b[0m\u001b[0;34m\u001b[0m\u001b[0;34m\u001b[0m\u001b[0m\n\u001b[0;32m----> 5\u001b[0;31m         \u001b[0mparam\u001b[0m\u001b[0;34m.\u001b[0m\u001b[0massign_sub\u001b[0m\u001b[0;34m(\u001b[0m\u001b[0mlr\u001b[0m \u001b[0;34m*\u001b[0m \u001b[0mgrad\u001b[0m \u001b[0;34m/\u001b[0m \u001b[0mbatch_size\u001b[0m\u001b[0;34m)\u001b[0m\u001b[0;34m\u001b[0m\u001b[0;34m\u001b[0m\u001b[0m\n\u001b[0m",
      "\u001b[0;31mTypeError\u001b[0m: unsupported operand type(s) for *: 'float' and 'NoneType'"
     ]
    }
   ],
   "source": [
    "lr = 0.03\n",
    "num_epochs = 30\n",
    "net = linreg\n",
    "loss = squared_loss\n",
    "batch_size = 9\n",
    "\"\"\"for X, y in data_iter(batch_size, train_data, train_label):\n",
    "    print(X, y)\"\"\"\n",
    "for epoch in range(num_epochs):\n",
    "    for X, y in data_iter(batch_size, train_data, train_label):\n",
    "        true_y = net(X, w, b)\n",
    "        with tf.GradientTape() as g:\n",
    "            l = loss(net(X, w, b), y)  # `X`和`y`的小批量损失\n",
    "        # 计算l关于[`w`, `b`]的梯度\n",
    "        dw, db = g.gradient(l, [w, b])\n",
    "        # 使用参数的梯度更新参数\n",
    "        sgd([w, b], [dw, db], lr, batch_size)\n",
    "    train_l = loss(net(train_data, w, b), train_label)\n",
    "    print(f'epoch {epoch + 1}, loss {float(tf.reduce_mean(train_l)):f}')"
   ]
  },
  {
   "cell_type": "code",
   "execution_count": 48,
   "metadata": {
    "pycharm": {
     "name": "#%%\n"
    },
    "scrolled": true
   },
   "outputs": [],
   "source": [
    "\n"
   ]
  },
  {
   "cell_type": "code",
   "execution_count": null,
   "metadata": {
    "pycharm": {
     "name": "#%%\n"
    },
    "scrolled": true
   },
   "outputs": [],
   "source": []
  },
  {
   "cell_type": "code",
   "execution_count": null,
   "metadata": {
    "pycharm": {
     "name": "#%%\n"
    },
    "scrolled": true
   },
   "outputs": [],
   "source": []
  },
  {
   "cell_type": "code",
   "execution_count": null,
   "metadata": {
    "pycharm": {
     "name": "#%%\n"
    },
    "scrolled": true
   },
   "outputs": [],
   "source": []
  },
  {
   "cell_type": "code",
   "execution_count": 5,
   "metadata": {
    "pycharm": {
     "name": "#%%\n"
    },
    "scrolled": true
   },
   "outputs": [],
   "source": [
    "def synthetic_data(w, b, num_examples):  #@save\n",
    "    \"\"\"生成 y = Xw + b + 噪声。\"\"\"\n",
    "    X = tf.zeros((num_examples, w.shape[0]))\n",
    "    X += tf.random.normal(shape=X.shape)\n",
    "    y = tf.matmul(X, tf.reshape(w, (-1, 1))) + b\n",
    "    y += tf.random.normal(shape=y.shape, stddev=0.01)\n",
    "    y = tf.reshape(y, (-1, 1))\n",
    "    return X, y\n",
    "\n",
    "true_w = tf.constant([2, -3.4])\n",
    "true_b = 4.2\n",
    "features, labels = synthetic_data(true_w, true_b, 1000)"
   ]
  },
  {
   "cell_type": "code",
   "execution_count": null,
   "metadata": {
    "pycharm": {
     "name": "#%%\n"
    },
    "scrolled": true
   },
   "outputs": [],
   "source": [
    "print(features)\n",
    "labels"
   ]
  },
  {
   "cell_type": "code",
   "execution_count": 35,
   "metadata": {
    "pycharm": {
     "name": "#%%\n"
    },
    "scrolled": true
   },
   "outputs": [
    {
     "data": {
      "image/png": "[encoded data removed]",
      "text/plain": [
       "<Figure size 432x288 with 1 Axes>"
      ]
     },
     "metadata": {
      "needs_background": "light"
     },
     "output_type": "display_data"
    },
    {
     "name": "stdout",
     "output_type": "stream",
     "text": [
      "[ 0.56692302 -0.83130397  1.66664026 -0.3447496   1.6054356   1.50728196\n",
      "  1.88415515  0.61741934  1.6982964  -0.9914116   0.43003648  0.74132462\n",
      "  0.87247108  1.58116087  0.2192443   1.57454422 -0.57899252  1.91213579\n",
      " -0.1724873   1.00821592]\n"
     ]
    }
   ],
   "source": [
    "# build regression model\n",
    "# linear_regression\n",
    "params = np.array([random.randint(-1.0, 1.0)+random.random() for i in range(20)])\n",
    "x_true = np.arange(0, 20, .1)\n",
    "y_true = np.empty(x_true.shape)\n",
    "for i in range(len(x_true)):\n",
    "    re1 = (np.full((20), x_true[i]) ** np.arange(len(params)))\n",
    "    re2 = tf.multiply(params, re1)\n",
    "    y_true[i] = np.sum(re2)\n",
    "plt.plot(x_true, y_true)\n",
    "plt.show()\n",
    "print(params)"
   ]
  },
  {
   "cell_type": "code",
   "execution_count": 2,
   "metadata": {
    "pycharm": {
     "name": "#%%\n"
    },
    "scrolled": true
   },
   "outputs": [
    {
     "ename": "ModuleNotFoundError",
     "evalue": "No module named 'PYEmd'",
     "output_type": "error",
     "traceback": [
      "\u001b[0;31m---------------------------------------------------------------------------\u001b[0m",
      "\u001b[0;31mModuleNotFoundError\u001b[0m                       Traceback (most recent call last)",
      "\u001b[0;32m<ipython-input-2-b1357493316a>\u001b[0m in \u001b[0;36m<module>\u001b[0;34m\u001b[0m\n\u001b[0;32m----> 1\u001b[0;31m \u001b[0;32mimport\u001b[0m \u001b[0mPYEmd\u001b[0m\u001b[0;34m\u001b[0m\u001b[0;34m\u001b[0m\u001b[0m\n\u001b[0m",
      "\u001b[0;31mModuleNotFoundError\u001b[0m: No module named 'PYEmd'"
     ]
    }
   ],
   "source": [
    "import PYEmd"
   ]
  },
  {
   "cell_type": "code",
   "execution_count": null,
   "metadata": {},
   "outputs": [],
   "source": []
  }
 ],
 "metadata": {
  "kernelspec": {
   "display_name": "Python 3",
   "language": "python",
   "name": "python3"
  },
  "language_info": {
   "codemirror_mode": {
    "name": "ipython",
    "version": 3
   },
   "file_extension": ".py",
   "mimetype": "text/x-python",
   "name": "python",
   "nbconvert_exporter": "python",
   "pygments_lexer": "ipython3",
   "version": "3.7.9"
  }
 },
 "nbformat": 4,
 "nbformat_minor": 1
}
