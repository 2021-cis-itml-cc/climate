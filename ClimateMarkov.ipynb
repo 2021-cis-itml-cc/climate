{
 "cells": [
  {
   "cell_type": "markdown",
   "source": [
    "# Climate Markov Modelling\n",
    "Predict temperature change with Markov probability model.\n",
    "Very good at multi-step predictions.\n",
    "\n",
    "This model has the following assumptions:\n",
    " - Past temperatures in the same time of the year change alike.\n",
    " - All places change alike.\n",
    " - Temperature change is only dependent on the time of the year and the\n",
    "      previous few temperature.\n",
    "\n",
    "Global TODO:\n",
    " - Add support for hemisphere detection (currently all dataset input should\n",
    "   be in the same hemisphere).\n",
    " - Add warping for location of the station. (Hence it's recommended to use\n",
    "   only one location for training.).\n",
    " - Add support for inexact temperature match.\n",
    " - Add time warping.\n",
    " - Return the confidence of the prediction."
   ],
   "metadata": {}
  },
  {
   "cell_type": "code",
   "execution_count": 1,
   "source": [
    "import pickle\n",
    "from typing import BinaryIO, Dict, List, Tuple, Union\n",
    "\n",
    "import gsod\n",
    "from matplotlib import pyplot as plt\n",
    "import numpy as np\n",
    "from numpy.typing import NDArray\n",
    "from scipy.stats import norm\n",
    "\n",
    "gsod.enable_svg_graphing()"
   ],
   "outputs": [],
   "metadata": {}
  },
  {
   "cell_type": "markdown",
   "source": [
    "Now let's build a simple first degree Markov predictor."
   ],
   "metadata": {}
  },
  {
   "cell_type": "code",
   "execution_count": 2,
   "source": [
    "class SimpleTemperaturePredict:\n",
    "    \"\"\"Predict temperatures with Markov methods.\"\"\"\n",
    "\n",
    "    def __init__(self):\n",
    "        # Format: {(old_temperature, date_from_jan1): [diff, idx_this]}\n",
    "        # idx_this is for updating average\n",
    "        self._prab: Dict[Tuple[int, int], List[Union[float, int]]] = {}\n",
    "        # Approx. a month around\n",
    "        self._sigma = 10\n",
    "\n",
    "    def _serialize(self):\n",
    "        \"\"\"Serialize data. Responsible for keeping ABI.\"\"\"\n",
    "        return {\n",
    "            \"sigma\": self._sigma,\n",
    "            \"data\": self._prab\n",
    "        }\n",
    "\n",
    "    def _deserialize(self, payload: Dict):\n",
    "        \"\"\"Deserialize into self.\"\"\"\n",
    "        if \"sigma\" in payload:\n",
    "            self._sigma = payload[\"sigma\"]\n",
    "        if \"data\" in payload:\n",
    "            self._prab = payload[\"data\"]\n",
    "            \n",
    "    def save(self, file: BinaryIO):\n",
    "        \"\"\"Save internal dataset.\"\"\"\n",
    "        pickle.dump(self._serialize(), file)\n",
    "\n",
    "    def load(self, file: BinaryIO):\n",
    "        \"\"\"Save internal dataset.\"\"\"\n",
    "        self._deserialize(pickle.load(file))\n",
    "\n",
    "    @staticmethod\n",
    "    def date_to_diff(date: np.datetime64) -> int:\n",
    "        \"\"\"Date to count from Jan 1st.\"\"\"\n",
    "        time_diff = date - date.astype(\"datetime64[Y]\")\n",
    "        return time_diff.astype(\"timedelta64[D]\").astype(int)\n",
    "        \n",
    "    \n",
    "    def fit(self, temperature: NDArray[np.floating], date: NDArray[np.datetime64]):\n",
    "        \"\"\"Fill the internal dataset.\n",
    "\n",
    "        `temperature`: An array of temperature data in chronological order.\n",
    "        `date`: Corresponding dates with the same dimension.\n",
    "        \"\"\"\n",
    "        # Remove the last point because it does not have a next\n",
    "        for (n, t), d in zip(enumerate(temperature), date[:-1]):\n",
    "            tmp_diff = temperature[n+1] - t\n",
    "            old_t = (round(t), self.date_to_diff(d))\n",
    "            if old_t in self._prab:\n",
    "                old_idx = self._prab[old_t][1]\n",
    "                self._prab[old_t][1] += 1\n",
    "                # Average update\n",
    "                self._prab[old_t][0] *= old_idx\n",
    "                self._prab[old_t][0] += tmp_diff\n",
    "                self._prab[old_t][0] /= old_idx + 1\n",
    "            else:\n",
    "                # Initialize\n",
    "                self._prab[old_t] = [tmp_diff, 1]\n",
    "\n",
    "    def predict(self, today_temperature: float, date: np.datetime64, sigma: float = -1):\n",
    "        \"\"\"Predict a temperature change for the tomorrow.\n",
    "\n",
    "        `today_temperature`: Temperature on the day before.\n",
    "        `date`: Date representation of `today_temperature`.\n",
    "        `sigma`: Gaussian stdev.\n",
    "\n",
    "        Return: Temperature difference.\n",
    "        \"\"\"\n",
    "        sigma = sigma if sigma >= 0 else self._sigma\n",
    "        results = []\n",
    "        weights = []\n",
    "        for key in self._prab:\n",
    "            if int(today_temperature) in key:\n",
    "                # XXX: Find KNN here instead of exact match\n",
    "                results.append(self._prab[key][0])\n",
    "                weights.append(norm(self.date_to_diff(date), sigma).pdf(key[1]))\n",
    "        # TODO: Calculate confidence level\n",
    "        return np.average(results, weights=weights)"
   ],
   "outputs": [],
   "metadata": {}
  },
  {
   "cell_type": "markdown",
   "source": [
    "Specification for datasets."
   ],
   "metadata": {}
  },
  {
   "cell_type": "code",
   "execution_count": 3,
   "source": [
    "STATION = \"722860\"\n",
    "ds = gsod.GsodDataset(\"runtime/GSOD\")\n",
    "temperatures = ds.read_continuous(stn=STATION, year=\"????\", interpolate=True)[\"TEMP\"]"
   ],
   "outputs": [],
   "metadata": {}
  },
  {
   "cell_type": "code",
   "execution_count": 4,
   "source": [
    "# Restrict range for LOOCV\n",
    "load_range = slice(np.datetime64(\"2019-12-31\"))\n",
    "t = temperatures[load_range]\n",
    "dates = t.index.to_numpy()\n",
    "# Train the model\n",
    "model = SimpleTemperaturePredict()\n",
    "model.fit(temperature=t, date=dates)\n",
    "print(model.predict(84.4, np.datetime64(\"2021-07-27\")))"
   ],
   "outputs": [
    {
     "output_type": "stream",
     "name": "stdout",
     "text": [
      "-0.9923808557514856\n"
     ]
    }
   ],
   "metadata": {}
  },
  {
   "cell_type": "code",
   "execution_count": 5,
   "source": [
    "def next_tmp(model, initial_tmp: float, initial_date: np.datetime64):\n",
    "    prev = initial_tmp\n",
    "    date = initial_date\n",
    "    while True:\n",
    "        prev += model.predict(prev, date)\n",
    "        date += 1\n",
    "        yield prev"
   ],
   "outputs": [],
   "metadata": {}
  },
  {
   "cell_type": "code",
   "execution_count": 6,
   "source": [
    "jan1 = np.datetime64(\"2020-01-01\")\n",
    "count = np.datetime64(\"2020-12-31\") - jan1\n",
    "\n",
    "t = ds.read_continuous(stn=STATION, year=\"2020\", interpolate=True)[\"TEMP\"]\n",
    "d = t.index.to_numpy()\n",
    "\n",
    "plt.plot(d, t, label=\"Real\")\n",
    "\n",
    "# Predict\n",
    "gen = next_tmp(model, t[jan1], jan1)\n",
    "itms = np.fromiter(gen, float, count=count.astype(int))\n",
    "plt.plot(jan1 + np.arange(count).astype(\"timedelta64[D]\"), itms, label=\"Prediction\")\n",
    "\n",
    "# Chart data\n",
    "plt.xlabel(\"Date\")\n",
    "plt.ylabel(\"Temperature/${}^\\circ$F\")\n",
    "plt.title(f\"LOOCV Predicted and Real Temperature for 2020 - Station {STATION}\")\n",
    "plt.legend()"
   ],
   "outputs": [
    {
     "output_type": "execute_result",
     "data": {
      "text/plain": [
       "<matplotlib.legend.Legend at 0x14e093b20>"
      ]
     },
     "metadata": {},
     "execution_count": 6
    },
    {
     "output_type": "display_data",
     "data": {
      "text/plain": [
       "<Figure size 432x288 with 1 Axes>"
      ],
      "image/svg+xml": "<?xml version=\"1.0\" encoding=\"utf-8\" standalone=\"no\"?>\n<!DOCTYPE svg PUBLIC \"-//W3C//DTD SVG 1.1//EN\"\n  \"http://www.w3.org/Graphics/SVG/1.1/DTD/svg11.dtd\">\n<svg height=\"277.314375pt\" version=\"1.1\" viewBox=\"0 0 413.5425 277.314375\" width=\"413.5425pt\" xmlns=\"http://www.w3.org/2000/svg\" xmlns:xlink=\"http://www.w3.org/1999/xlink\">\n <metadata>\n  <rdf:RDF xmlns:cc=\"http://creativecommons.org/ns#\" xmlns:dc=\"http://purl.org/dc/elements/1.1/\" xmlns:rdf=\"http://www.w3.org/1999/02/22-rdf-syntax-ns#\">\n   <cc:Work>\n    <dc:type rdf:resource=\"http://purl.org/dc/dcmitype/StillImage\"/>\n    <dc:date>2021-08-05T23:59:01.503202</dc:date>\n    <dc:format>image/svg+xml</dc:format>\n    <dc:creator>\n     <cc:Agent>\n      <dc:title>Matplotlib v3.4.2, https://matplotlib.org/</dc:title>\n     </cc:Agent>\n    </dc:creator>\n   </cc:Work>\n  </rdf:RDF>\n </metadata>\n <defs>\n  <style type=\"text/css\">*{stroke-linecap:butt;stroke-linejoin:round;}</style>\n </defs>\n <g id=\"figure_1\">\n  <g id=\"patch_1\">\n   <path d=\"M 0 277.314375 \nL 413.5425 277.314375 \nL 413.5425 0 \nL 0 0 \nz\n\" style=\"fill:none;\"/>\n  </g>\n  <g id=\"axes_1\">\n   <g id=\"patch_2\">\n    <path d=\"M 40.603125 239.758125 \nL 375.403125 239.758125 \nL 375.403125 22.318125 \nL 40.603125 22.318125 \nz\n\" style=\"fill:#ffffff;\"/>\n   </g>\n   <g id=\"matplotlib.axis_1\">\n    <g id=\"xtick_1\">\n     <g id=\"line2d_1\">\n      <defs>\n       <path d=\"M 0 0 \nL 0 3.5 \n\" id=\"m4eba3f6a7c\" style=\"stroke:#000000;stroke-width:0.8;\"/>\n      </defs>\n      <g>\n       <use style=\"stroke:#000000;stroke-width:0.8;\" x=\"55.821307\" xlink:href=\"#m4eba3f6a7c\" y=\"239.758125\"/>\n      </g>\n     </g>\n     <g id=\"text_1\">\n      <!-- 2020-01 -->\n      <g transform=\"translate(34.929901 254.356562)scale(0.1 -0.1)\">\n       <defs>\n        <path d=\"M 1228 531 \nL 3431 531 \nL 3431 0 \nL 469 0 \nL 469 531 \nQ 828 903 1448 1529 \nQ 2069 2156 2228 2338 \nQ 2531 2678 2651 2914 \nQ 2772 3150 2772 3378 \nQ 2772 3750 2511 3984 \nQ 2250 4219 1831 4219 \nQ 1534 4219 1204 4116 \nQ 875 4013 500 3803 \nL 500 4441 \nQ 881 4594 1212 4672 \nQ 1544 4750 1819 4750 \nQ 2544 4750 2975 4387 \nQ 3406 4025 3406 3419 \nQ 3406 3131 3298 2873 \nQ 3191 2616 2906 2266 \nQ 2828 2175 2409 1742 \nQ 1991 1309 1228 531 \nz\n\" id=\"DejaVuSans-32\" transform=\"scale(0.015625)\"/>\n        <path d=\"M 2034 4250 \nQ 1547 4250 1301 3770 \nQ 1056 3291 1056 2328 \nQ 1056 1369 1301 889 \nQ 1547 409 2034 409 \nQ 2525 409 2770 889 \nQ 3016 1369 3016 2328 \nQ 3016 3291 2770 3770 \nQ 2525 4250 2034 4250 \nz\nM 2034 4750 \nQ 2819 4750 3233 4129 \nQ 3647 3509 3647 2328 \nQ 3647 1150 3233 529 \nQ 2819 -91 2034 -91 \nQ 1250 -91 836 529 \nQ 422 1150 422 2328 \nQ 422 3509 836 4129 \nQ 1250 4750 2034 4750 \nz\n\" id=\"DejaVuSans-30\" transform=\"scale(0.015625)\"/>\n        <path d=\"M 313 2009 \nL 1997 2009 \nL 1997 1497 \nL 313 1497 \nL 313 2009 \nz\n\" id=\"DejaVuSans-2d\" transform=\"scale(0.015625)\"/>\n        <path d=\"M 794 531 \nL 1825 531 \nL 1825 4091 \nL 703 3866 \nL 703 4441 \nL 1819 4666 \nL 2450 4666 \nL 2450 531 \nL 3481 531 \nL 3481 0 \nL 794 0 \nL 794 531 \nz\n\" id=\"DejaVuSans-31\" transform=\"scale(0.015625)\"/>\n       </defs>\n       <use xlink:href=\"#DejaVuSans-32\"/>\n       <use x=\"63.623047\" xlink:href=\"#DejaVuSans-30\"/>\n       <use x=\"127.246094\" xlink:href=\"#DejaVuSans-32\"/>\n       <use x=\"190.869141\" xlink:href=\"#DejaVuSans-30\"/>\n       <use x=\"254.492188\" xlink:href=\"#DejaVuSans-2d\"/>\n       <use x=\"290.576172\" xlink:href=\"#DejaVuSans-30\"/>\n       <use x=\"354.199219\" xlink:href=\"#DejaVuSans-31\"/>\n      </g>\n     </g>\n    </g>\n    <g id=\"xtick_2\">\n     <g id=\"line2d_2\">\n      <g>\n       <use style=\"stroke:#000000;stroke-width:0.8;\" x=\"105.853685\" xlink:href=\"#m4eba3f6a7c\" y=\"239.758125\"/>\n      </g>\n     </g>\n     <g id=\"text_2\">\n      <!-- 2020-03 -->\n      <g transform=\"translate(84.962279 254.356562)scale(0.1 -0.1)\">\n       <defs>\n        <path d=\"M 2597 2516 \nQ 3050 2419 3304 2112 \nQ 3559 1806 3559 1356 \nQ 3559 666 3084 287 \nQ 2609 -91 1734 -91 \nQ 1441 -91 1130 -33 \nQ 819 25 488 141 \nL 488 750 \nQ 750 597 1062 519 \nQ 1375 441 1716 441 \nQ 2309 441 2620 675 \nQ 2931 909 2931 1356 \nQ 2931 1769 2642 2001 \nQ 2353 2234 1838 2234 \nL 1294 2234 \nL 1294 2753 \nL 1863 2753 \nQ 2328 2753 2575 2939 \nQ 2822 3125 2822 3475 \nQ 2822 3834 2567 4026 \nQ 2313 4219 1838 4219 \nQ 1578 4219 1281 4162 \nQ 984 4106 628 3988 \nL 628 4550 \nQ 988 4650 1302 4700 \nQ 1616 4750 1894 4750 \nQ 2613 4750 3031 4423 \nQ 3450 4097 3450 3541 \nQ 3450 3153 3228 2886 \nQ 3006 2619 2597 2516 \nz\n\" id=\"DejaVuSans-33\" transform=\"scale(0.015625)\"/>\n       </defs>\n       <use xlink:href=\"#DejaVuSans-32\"/>\n       <use x=\"63.623047\" xlink:href=\"#DejaVuSans-30\"/>\n       <use x=\"127.246094\" xlink:href=\"#DejaVuSans-32\"/>\n       <use x=\"190.869141\" xlink:href=\"#DejaVuSans-30\"/>\n       <use x=\"254.492188\" xlink:href=\"#DejaVuSans-2d\"/>\n       <use x=\"290.576172\" xlink:href=\"#DejaVuSans-30\"/>\n       <use x=\"354.199219\" xlink:href=\"#DejaVuSans-33\"/>\n      </g>\n     </g>\n    </g>\n    <g id=\"xtick_3\">\n     <g id=\"line2d_3\">\n      <g>\n       <use style=\"stroke:#000000;stroke-width:0.8;\" x=\"156.719937\" xlink:href=\"#m4eba3f6a7c\" y=\"239.758125\"/>\n      </g>\n     </g>\n     <g id=\"text_3\">\n      <!-- 2020-05 -->\n      <g transform=\"translate(135.828531 254.356562)scale(0.1 -0.1)\">\n       <defs>\n        <path d=\"M 691 4666 \nL 3169 4666 \nL 3169 4134 \nL 1269 4134 \nL 1269 2991 \nQ 1406 3038 1543 3061 \nQ 1681 3084 1819 3084 \nQ 2600 3084 3056 2656 \nQ 3513 2228 3513 1497 \nQ 3513 744 3044 326 \nQ 2575 -91 1722 -91 \nQ 1428 -91 1123 -41 \nQ 819 9 494 109 \nL 494 744 \nQ 775 591 1075 516 \nQ 1375 441 1709 441 \nQ 2250 441 2565 725 \nQ 2881 1009 2881 1497 \nQ 2881 1984 2565 2268 \nQ 2250 2553 1709 2553 \nQ 1456 2553 1204 2497 \nQ 953 2441 691 2322 \nL 691 4666 \nz\n\" id=\"DejaVuSans-35\" transform=\"scale(0.015625)\"/>\n       </defs>\n       <use xlink:href=\"#DejaVuSans-32\"/>\n       <use x=\"63.623047\" xlink:href=\"#DejaVuSans-30\"/>\n       <use x=\"127.246094\" xlink:href=\"#DejaVuSans-32\"/>\n       <use x=\"190.869141\" xlink:href=\"#DejaVuSans-30\"/>\n       <use x=\"254.492188\" xlink:href=\"#DejaVuSans-2d\"/>\n       <use x=\"290.576172\" xlink:href=\"#DejaVuSans-30\"/>\n       <use x=\"354.199219\" xlink:href=\"#DejaVuSans-35\"/>\n      </g>\n     </g>\n    </g>\n    <g id=\"xtick_4\">\n     <g id=\"line2d_4\">\n      <g>\n       <use style=\"stroke:#000000;stroke-width:0.8;\" x=\"207.586189\" xlink:href=\"#m4eba3f6a7c\" y=\"239.758125\"/>\n      </g>\n     </g>\n     <g id=\"text_4\">\n      <!-- 2020-07 -->\n      <g transform=\"translate(186.694782 254.356562)scale(0.1 -0.1)\">\n       <defs>\n        <path d=\"M 525 4666 \nL 3525 4666 \nL 3525 4397 \nL 1831 0 \nL 1172 0 \nL 2766 4134 \nL 525 4134 \nL 525 4666 \nz\n\" id=\"DejaVuSans-37\" transform=\"scale(0.015625)\"/>\n       </defs>\n       <use xlink:href=\"#DejaVuSans-32\"/>\n       <use x=\"63.623047\" xlink:href=\"#DejaVuSans-30\"/>\n       <use x=\"127.246094\" xlink:href=\"#DejaVuSans-32\"/>\n       <use x=\"190.869141\" xlink:href=\"#DejaVuSans-30\"/>\n       <use x=\"254.492188\" xlink:href=\"#DejaVuSans-2d\"/>\n       <use x=\"290.576172\" xlink:href=\"#DejaVuSans-30\"/>\n       <use x=\"354.199219\" xlink:href=\"#DejaVuSans-37\"/>\n      </g>\n     </g>\n    </g>\n    <g id=\"xtick_5\">\n     <g id=\"line2d_5\">\n      <g>\n       <use style=\"stroke:#000000;stroke-width:0.8;\" x=\"259.286313\" xlink:href=\"#m4eba3f6a7c\" y=\"239.758125\"/>\n      </g>\n     </g>\n     <g id=\"text_5\">\n      <!-- 2020-09 -->\n      <g transform=\"translate(238.394907 254.356562)scale(0.1 -0.1)\">\n       <defs>\n        <path d=\"M 703 97 \nL 703 672 \nQ 941 559 1184 500 \nQ 1428 441 1663 441 \nQ 2288 441 2617 861 \nQ 2947 1281 2994 2138 \nQ 2813 1869 2534 1725 \nQ 2256 1581 1919 1581 \nQ 1219 1581 811 2004 \nQ 403 2428 403 3163 \nQ 403 3881 828 4315 \nQ 1253 4750 1959 4750 \nQ 2769 4750 3195 4129 \nQ 3622 3509 3622 2328 \nQ 3622 1225 3098 567 \nQ 2575 -91 1691 -91 \nQ 1453 -91 1209 -44 \nQ 966 3 703 97 \nz\nM 1959 2075 \nQ 2384 2075 2632 2365 \nQ 2881 2656 2881 3163 \nQ 2881 3666 2632 3958 \nQ 2384 4250 1959 4250 \nQ 1534 4250 1286 3958 \nQ 1038 3666 1038 3163 \nQ 1038 2656 1286 2365 \nQ 1534 2075 1959 2075 \nz\n\" id=\"DejaVuSans-39\" transform=\"scale(0.015625)\"/>\n       </defs>\n       <use xlink:href=\"#DejaVuSans-32\"/>\n       <use x=\"63.623047\" xlink:href=\"#DejaVuSans-30\"/>\n       <use x=\"127.246094\" xlink:href=\"#DejaVuSans-32\"/>\n       <use x=\"190.869141\" xlink:href=\"#DejaVuSans-30\"/>\n       <use x=\"254.492188\" xlink:href=\"#DejaVuSans-2d\"/>\n       <use x=\"290.576172\" xlink:href=\"#DejaVuSans-30\"/>\n       <use x=\"354.199219\" xlink:href=\"#DejaVuSans-39\"/>\n      </g>\n     </g>\n    </g>\n    <g id=\"xtick_6\">\n     <g id=\"line2d_6\">\n      <g>\n       <use style=\"stroke:#000000;stroke-width:0.8;\" x=\"310.152565\" xlink:href=\"#m4eba3f6a7c\" y=\"239.758125\"/>\n      </g>\n     </g>\n     <g id=\"text_6\">\n      <!-- 2020-11 -->\n      <g transform=\"translate(289.261158 254.356562)scale(0.1 -0.1)\">\n       <use xlink:href=\"#DejaVuSans-32\"/>\n       <use x=\"63.623047\" xlink:href=\"#DejaVuSans-30\"/>\n       <use x=\"127.246094\" xlink:href=\"#DejaVuSans-32\"/>\n       <use x=\"190.869141\" xlink:href=\"#DejaVuSans-30\"/>\n       <use x=\"254.492188\" xlink:href=\"#DejaVuSans-2d\"/>\n       <use x=\"290.576172\" xlink:href=\"#DejaVuSans-31\"/>\n       <use x=\"354.199219\" xlink:href=\"#DejaVuSans-31\"/>\n      </g>\n     </g>\n    </g>\n    <g id=\"xtick_7\">\n     <g id=\"line2d_7\">\n      <g>\n       <use style=\"stroke:#000000;stroke-width:0.8;\" x=\"361.018816\" xlink:href=\"#m4eba3f6a7c\" y=\"239.758125\"/>\n      </g>\n     </g>\n     <g id=\"text_7\">\n      <!-- 2021-01 -->\n      <g transform=\"translate(340.12741 254.356562)scale(0.1 -0.1)\">\n       <use xlink:href=\"#DejaVuSans-32\"/>\n       <use x=\"63.623047\" xlink:href=\"#DejaVuSans-30\"/>\n       <use x=\"127.246094\" xlink:href=\"#DejaVuSans-32\"/>\n       <use x=\"190.869141\" xlink:href=\"#DejaVuSans-31\"/>\n       <use x=\"254.492188\" xlink:href=\"#DejaVuSans-2d\"/>\n       <use x=\"290.576172\" xlink:href=\"#DejaVuSans-30\"/>\n       <use x=\"354.199219\" xlink:href=\"#DejaVuSans-31\"/>\n      </g>\n     </g>\n    </g>\n    <g id=\"text_8\">\n     <!-- Date -->\n     <g transform=\"translate(196.052344 268.034687)scale(0.1 -0.1)\">\n      <defs>\n       <path d=\"M 1259 4147 \nL 1259 519 \nL 2022 519 \nQ 2988 519 3436 956 \nQ 3884 1394 3884 2338 \nQ 3884 3275 3436 3711 \nQ 2988 4147 2022 4147 \nL 1259 4147 \nz\nM 628 4666 \nL 1925 4666 \nQ 3281 4666 3915 4102 \nQ 4550 3538 4550 2338 \nQ 4550 1131 3912 565 \nQ 3275 0 1925 0 \nL 628 0 \nL 628 4666 \nz\n\" id=\"DejaVuSans-44\" transform=\"scale(0.015625)\"/>\n       <path d=\"M 2194 1759 \nQ 1497 1759 1228 1600 \nQ 959 1441 959 1056 \nQ 959 750 1161 570 \nQ 1363 391 1709 391 \nQ 2188 391 2477 730 \nQ 2766 1069 2766 1631 \nL 2766 1759 \nL 2194 1759 \nz\nM 3341 1997 \nL 3341 0 \nL 2766 0 \nL 2766 531 \nQ 2569 213 2275 61 \nQ 1981 -91 1556 -91 \nQ 1019 -91 701 211 \nQ 384 513 384 1019 \nQ 384 1609 779 1909 \nQ 1175 2209 1959 2209 \nL 2766 2209 \nL 2766 2266 \nQ 2766 2663 2505 2880 \nQ 2244 3097 1772 3097 \nQ 1472 3097 1187 3025 \nQ 903 2953 641 2809 \nL 641 3341 \nQ 956 3463 1253 3523 \nQ 1550 3584 1831 3584 \nQ 2591 3584 2966 3190 \nQ 3341 2797 3341 1997 \nz\n\" id=\"DejaVuSans-61\" transform=\"scale(0.015625)\"/>\n       <path d=\"M 1172 4494 \nL 1172 3500 \nL 2356 3500 \nL 2356 3053 \nL 1172 3053 \nL 1172 1153 \nQ 1172 725 1289 603 \nQ 1406 481 1766 481 \nL 2356 481 \nL 2356 0 \nL 1766 0 \nQ 1100 0 847 248 \nQ 594 497 594 1153 \nL 594 3053 \nL 172 3053 \nL 172 3500 \nL 594 3500 \nL 594 4494 \nL 1172 4494 \nz\n\" id=\"DejaVuSans-74\" transform=\"scale(0.015625)\"/>\n       <path d=\"M 3597 1894 \nL 3597 1613 \nL 953 1613 \nQ 991 1019 1311 708 \nQ 1631 397 2203 397 \nQ 2534 397 2845 478 \nQ 3156 559 3463 722 \nL 3463 178 \nQ 3153 47 2828 -22 \nQ 2503 -91 2169 -91 \nQ 1331 -91 842 396 \nQ 353 884 353 1716 \nQ 353 2575 817 3079 \nQ 1281 3584 2069 3584 \nQ 2775 3584 3186 3129 \nQ 3597 2675 3597 1894 \nz\nM 3022 2063 \nQ 3016 2534 2758 2815 \nQ 2500 3097 2075 3097 \nQ 1594 3097 1305 2825 \nQ 1016 2553 972 2059 \nL 3022 2063 \nz\n\" id=\"DejaVuSans-65\" transform=\"scale(0.015625)\"/>\n      </defs>\n      <use xlink:href=\"#DejaVuSans-44\"/>\n      <use x=\"77.001953\" xlink:href=\"#DejaVuSans-61\"/>\n      <use x=\"138.28125\" xlink:href=\"#DejaVuSans-74\"/>\n      <use x=\"177.490234\" xlink:href=\"#DejaVuSans-65\"/>\n     </g>\n    </g>\n   </g>\n   <g id=\"matplotlib.axis_2\">\n    <g id=\"ytick_1\">\n     <g id=\"line2d_8\">\n      <defs>\n       <path d=\"M 0 0 \nL -3.5 0 \n\" id=\"m92986a5163\" style=\"stroke:#000000;stroke-width:0.8;\"/>\n      </defs>\n      <g>\n       <use style=\"stroke:#000000;stroke-width:0.8;\" x=\"40.603125\" xlink:href=\"#m92986a5163\" y=\"222.354331\"/>\n      </g>\n     </g>\n     <g id=\"text_9\">\n      <!-- 40 -->\n      <g transform=\"translate(20.878125 226.153549)scale(0.1 -0.1)\">\n       <defs>\n        <path d=\"M 2419 4116 \nL 825 1625 \nL 2419 1625 \nL 2419 4116 \nz\nM 2253 4666 \nL 3047 4666 \nL 3047 1625 \nL 3713 1625 \nL 3713 1100 \nL 3047 1100 \nL 3047 0 \nL 2419 0 \nL 2419 1100 \nL 313 1100 \nL 313 1709 \nL 2253 4666 \nz\n\" id=\"DejaVuSans-34\" transform=\"scale(0.015625)\"/>\n       </defs>\n       <use xlink:href=\"#DejaVuSans-34\"/>\n       <use x=\"63.623047\" xlink:href=\"#DejaVuSans-30\"/>\n      </g>\n     </g>\n    </g>\n    <g id=\"ytick_2\">\n     <g id=\"line2d_9\">\n      <g>\n       <use style=\"stroke:#000000;stroke-width:0.8;\" x=\"40.603125\" xlink:href=\"#m92986a5163\" y=\"186.544054\"/>\n      </g>\n     </g>\n     <g id=\"text_10\">\n      <!-- 50 -->\n      <g transform=\"translate(20.878125 190.343273)scale(0.1 -0.1)\">\n       <use xlink:href=\"#DejaVuSans-35\"/>\n       <use x=\"63.623047\" xlink:href=\"#DejaVuSans-30\"/>\n      </g>\n     </g>\n    </g>\n    <g id=\"ytick_3\">\n     <g id=\"line2d_10\">\n      <g>\n       <use style=\"stroke:#000000;stroke-width:0.8;\" x=\"40.603125\" xlink:href=\"#m92986a5163\" y=\"150.733777\"/>\n      </g>\n     </g>\n     <g id=\"text_11\">\n      <!-- 60 -->\n      <g transform=\"translate(20.878125 154.532996)scale(0.1 -0.1)\">\n       <defs>\n        <path d=\"M 2113 2584 \nQ 1688 2584 1439 2293 \nQ 1191 2003 1191 1497 \nQ 1191 994 1439 701 \nQ 1688 409 2113 409 \nQ 2538 409 2786 701 \nQ 3034 994 3034 1497 \nQ 3034 2003 2786 2293 \nQ 2538 2584 2113 2584 \nz\nM 3366 4563 \nL 3366 3988 \nQ 3128 4100 2886 4159 \nQ 2644 4219 2406 4219 \nQ 1781 4219 1451 3797 \nQ 1122 3375 1075 2522 \nQ 1259 2794 1537 2939 \nQ 1816 3084 2150 3084 \nQ 2853 3084 3261 2657 \nQ 3669 2231 3669 1497 \nQ 3669 778 3244 343 \nQ 2819 -91 2113 -91 \nQ 1303 -91 875 529 \nQ 447 1150 447 2328 \nQ 447 3434 972 4092 \nQ 1497 4750 2381 4750 \nQ 2619 4750 2861 4703 \nQ 3103 4656 3366 4563 \nz\n\" id=\"DejaVuSans-36\" transform=\"scale(0.015625)\"/>\n       </defs>\n       <use xlink:href=\"#DejaVuSans-36\"/>\n       <use x=\"63.623047\" xlink:href=\"#DejaVuSans-30\"/>\n      </g>\n     </g>\n    </g>\n    <g id=\"ytick_4\">\n     <g id=\"line2d_11\">\n      <g>\n       <use style=\"stroke:#000000;stroke-width:0.8;\" x=\"40.603125\" xlink:href=\"#m92986a5163\" y=\"114.9235\"/>\n      </g>\n     </g>\n     <g id=\"text_12\">\n      <!-- 70 -->\n      <g transform=\"translate(20.878125 118.722719)scale(0.1 -0.1)\">\n       <use xlink:href=\"#DejaVuSans-37\"/>\n       <use x=\"63.623047\" xlink:href=\"#DejaVuSans-30\"/>\n      </g>\n     </g>\n    </g>\n    <g id=\"ytick_5\">\n     <g id=\"line2d_12\">\n      <g>\n       <use style=\"stroke:#000000;stroke-width:0.8;\" x=\"40.603125\" xlink:href=\"#m92986a5163\" y=\"79.113224\"/>\n      </g>\n     </g>\n     <g id=\"text_13\">\n      <!-- 80 -->\n      <g transform=\"translate(20.878125 82.912443)scale(0.1 -0.1)\">\n       <defs>\n        <path d=\"M 2034 2216 \nQ 1584 2216 1326 1975 \nQ 1069 1734 1069 1313 \nQ 1069 891 1326 650 \nQ 1584 409 2034 409 \nQ 2484 409 2743 651 \nQ 3003 894 3003 1313 \nQ 3003 1734 2745 1975 \nQ 2488 2216 2034 2216 \nz\nM 1403 2484 \nQ 997 2584 770 2862 \nQ 544 3141 544 3541 \nQ 544 4100 942 4425 \nQ 1341 4750 2034 4750 \nQ 2731 4750 3128 4425 \nQ 3525 4100 3525 3541 \nQ 3525 3141 3298 2862 \nQ 3072 2584 2669 2484 \nQ 3125 2378 3379 2068 \nQ 3634 1759 3634 1313 \nQ 3634 634 3220 271 \nQ 2806 -91 2034 -91 \nQ 1263 -91 848 271 \nQ 434 634 434 1313 \nQ 434 1759 690 2068 \nQ 947 2378 1403 2484 \nz\nM 1172 3481 \nQ 1172 3119 1398 2916 \nQ 1625 2713 2034 2713 \nQ 2441 2713 2670 2916 \nQ 2900 3119 2900 3481 \nQ 2900 3844 2670 4047 \nQ 2441 4250 2034 4250 \nQ 1625 4250 1398 4047 \nQ 1172 3844 1172 3481 \nz\n\" id=\"DejaVuSans-38\" transform=\"scale(0.015625)\"/>\n       </defs>\n       <use xlink:href=\"#DejaVuSans-38\"/>\n       <use x=\"63.623047\" xlink:href=\"#DejaVuSans-30\"/>\n      </g>\n     </g>\n    </g>\n    <g id=\"ytick_6\">\n     <g id=\"line2d_13\">\n      <g>\n       <use style=\"stroke:#000000;stroke-width:0.8;\" x=\"40.603125\" xlink:href=\"#m92986a5163\" y=\"43.302947\"/>\n      </g>\n     </g>\n     <g id=\"text_14\">\n      <!-- 90 -->\n      <g transform=\"translate(20.878125 47.102166)scale(0.1 -0.1)\">\n       <use xlink:href=\"#DejaVuSans-39\"/>\n       <use x=\"63.623047\" xlink:href=\"#DejaVuSans-30\"/>\n      </g>\n     </g>\n    </g>\n    <g id=\"text_15\">\n     <!-- Temperature/${}^\\circ$F -->\n     <g transform=\"translate(14.778125 171.988125)rotate(-90)scale(0.1 -0.1)\">\n      <defs>\n       <path d=\"M -19 4666 \nL 3928 4666 \nL 3928 4134 \nL 2272 4134 \nL 2272 0 \nL 1638 0 \nL 1638 4134 \nL -19 4134 \nL -19 4666 \nz\n\" id=\"DejaVuSans-54\" transform=\"scale(0.015625)\"/>\n       <path d=\"M 3328 2828 \nQ 3544 3216 3844 3400 \nQ 4144 3584 4550 3584 \nQ 5097 3584 5394 3201 \nQ 5691 2819 5691 2113 \nL 5691 0 \nL 5113 0 \nL 5113 2094 \nQ 5113 2597 4934 2840 \nQ 4756 3084 4391 3084 \nQ 3944 3084 3684 2787 \nQ 3425 2491 3425 1978 \nL 3425 0 \nL 2847 0 \nL 2847 2094 \nQ 2847 2600 2669 2842 \nQ 2491 3084 2119 3084 \nQ 1678 3084 1418 2786 \nQ 1159 2488 1159 1978 \nL 1159 0 \nL 581 0 \nL 581 3500 \nL 1159 3500 \nL 1159 2956 \nQ 1356 3278 1631 3431 \nQ 1906 3584 2284 3584 \nQ 2666 3584 2933 3390 \nQ 3200 3197 3328 2828 \nz\n\" id=\"DejaVuSans-6d\" transform=\"scale(0.015625)\"/>\n       <path d=\"M 1159 525 \nL 1159 -1331 \nL 581 -1331 \nL 581 3500 \nL 1159 3500 \nL 1159 2969 \nQ 1341 3281 1617 3432 \nQ 1894 3584 2278 3584 \nQ 2916 3584 3314 3078 \nQ 3713 2572 3713 1747 \nQ 3713 922 3314 415 \nQ 2916 -91 2278 -91 \nQ 1894 -91 1617 61 \nQ 1341 213 1159 525 \nz\nM 3116 1747 \nQ 3116 2381 2855 2742 \nQ 2594 3103 2138 3103 \nQ 1681 3103 1420 2742 \nQ 1159 2381 1159 1747 \nQ 1159 1113 1420 752 \nQ 1681 391 2138 391 \nQ 2594 391 2855 752 \nQ 3116 1113 3116 1747 \nz\n\" id=\"DejaVuSans-70\" transform=\"scale(0.015625)\"/>\n       <path d=\"M 2631 2963 \nQ 2534 3019 2420 3045 \nQ 2306 3072 2169 3072 \nQ 1681 3072 1420 2755 \nQ 1159 2438 1159 1844 \nL 1159 0 \nL 581 0 \nL 581 3500 \nL 1159 3500 \nL 1159 2956 \nQ 1341 3275 1631 3429 \nQ 1922 3584 2338 3584 \nQ 2397 3584 2469 3576 \nQ 2541 3569 2628 3553 \nL 2631 2963 \nz\n\" id=\"DejaVuSans-72\" transform=\"scale(0.015625)\"/>\n       <path d=\"M 544 1381 \nL 544 3500 \nL 1119 3500 \nL 1119 1403 \nQ 1119 906 1312 657 \nQ 1506 409 1894 409 \nQ 2359 409 2629 706 \nQ 2900 1003 2900 1516 \nL 2900 3500 \nL 3475 3500 \nL 3475 0 \nL 2900 0 \nL 2900 538 \nQ 2691 219 2414 64 \nQ 2138 -91 1772 -91 \nQ 1169 -91 856 284 \nQ 544 659 544 1381 \nz\nM 1991 3584 \nL 1991 3584 \nz\n\" id=\"DejaVuSans-75\" transform=\"scale(0.015625)\"/>\n       <path d=\"M 1625 4666 \nL 2156 4666 \nL 531 -594 \nL 0 -594 \nL 1625 4666 \nz\n\" id=\"DejaVuSans-2f\" transform=\"scale(0.015625)\"/>\n       <path d=\"M 2003 2603 \nQ 1753 2603 1581 2429 \nQ 1409 2256 1409 2006 \nQ 1409 1759 1581 1589 \nQ 1753 1419 2003 1419 \nQ 2253 1419 2425 1589 \nQ 2597 1759 2597 2006 \nQ 2597 2253 2423 2428 \nQ 2250 2603 2003 2603 \nz\nM 2003 3006 \nQ 2203 3006 2387 2929 \nQ 2572 2853 2706 2709 \nQ 2850 2569 2922 2390 \nQ 2994 2212 2994 2006 \nQ 2994 1594 2705 1308 \nQ 2416 1022 1997 1022 \nQ 1575 1022 1294 1303 \nQ 1013 1584 1013 2006 \nQ 1013 2425 1300 2715 \nQ 1588 3006 2003 3006 \nz\n\" id=\"DejaVuSans-2218\" transform=\"scale(0.015625)\"/>\n       <path d=\"M 628 4666 \nL 3309 4666 \nL 3309 4134 \nL 1259 4134 \nL 1259 2759 \nL 3109 2759 \nL 3109 2228 \nL 1259 2228 \nL 1259 0 \nL 628 0 \nL 628 4666 \nz\n\" id=\"DejaVuSans-46\" transform=\"scale(0.015625)\"/>\n      </defs>\n      <use transform=\"translate(0 0.09375)\" xlink:href=\"#DejaVuSans-54\"/>\n      <use transform=\"translate(61.083984 0.09375)\" xlink:href=\"#DejaVuSans-65\"/>\n      <use transform=\"translate(122.607422 0.09375)\" xlink:href=\"#DejaVuSans-6d\"/>\n      <use transform=\"translate(220.019531 0.09375)\" xlink:href=\"#DejaVuSans-70\"/>\n      <use transform=\"translate(283.496094 0.09375)\" xlink:href=\"#DejaVuSans-65\"/>\n      <use transform=\"translate(345.019531 0.09375)\" xlink:href=\"#DejaVuSans-72\"/>\n      <use transform=\"translate(386.132812 0.09375)\" xlink:href=\"#DejaVuSans-61\"/>\n      <use transform=\"translate(447.412109 0.09375)\" xlink:href=\"#DejaVuSans-74\"/>\n      <use transform=\"translate(486.621094 0.09375)\" xlink:href=\"#DejaVuSans-75\"/>\n      <use transform=\"translate(550 0.09375)\" xlink:href=\"#DejaVuSans-72\"/>\n      <use transform=\"translate(591.113281 0.09375)\" xlink:href=\"#DejaVuSans-65\"/>\n      <use transform=\"translate(652.636719 0.09375)\" xlink:href=\"#DejaVuSans-2f\"/>\n      <use transform=\"translate(700.922852 38.375)scale(0.7)\" xlink:href=\"#DejaVuSans-2218\"/>\n      <use transform=\"translate(761.113281 0.09375)\" xlink:href=\"#DejaVuSans-46\"/>\n     </g>\n    </g>\n   </g>\n   <g id=\"line2d_14\">\n    <path clip-path=\"url(#p696e75a1d0)\" d=\"M 55.821307 203.374884 \nL 56.65518 191.19939 \nL 57.489053 189.408876 \nL 58.322926 192.989904 \nL 59.156799 197.64524 \nL 59.990672 162.909271 \nL 60.824545 163.98358 \nL 61.658418 208.388323 \nL 62.492291 192.273698 \nL 63.326164 207.672117 \nL 64.160037 213.401761 \nL 64.99391 201.58437 \nL 65.827783 197.287137 \nL 66.661656 212.327453 \nL 67.495528 199.077651 \nL 68.329401 212.327453 \nL 69.163274 189.408876 \nL 69.997147 188.334568 \nL 70.83102 158.612038 \nL 71.664893 167.206504 \nL 72.498766 180.098204 \nL 73.332639 183.679232 \nL 74.166512 185.469746 \nL 75.000385 176.517176 \nL 75.834258 183.679232 \nL 76.668131 188.334568 \nL 77.502004 182.246821 \nL 78.335877 181.530615 \nL 79.16975 184.75354 \nL 80.003623 174.010457 \nL 80.837496 172.219943 \nL 81.671369 171.145635 \nL 82.505242 170.429429 \nL 83.339115 180.456307 \nL 84.172988 199.077651 \nL 85.006861 229.874489 \nL 85.840734 208.746425 \nL 86.674607 196.570931 \nL 87.50848 191.915595 \nL 88.342353 189.050773 \nL 89.176226 189.408876 \nL 90.010099 151.449983 \nL 90.843972 199.793856 \nL 91.677845 199.793856 \nL 92.511718 189.766979 \nL 93.345591 192.273698 \nL 94.179464 184.395437 \nL 95.013337 181.172512 \nL 95.84721 173.294251 \nL 96.681083 168.997018 \nL 97.514956 173.652354 \nL 98.348829 147.510852 \nL 100.016575 179.023896 \nL 100.850448 182.963026 \nL 101.684321 167.206504 \nL 102.518193 135.693461 \nL 103.352066 137.842078 \nL 104.185939 128.173303 \nL 105.019812 163.98358 \nL 105.853685 179.381999 \nL 106.687558 187.976465 \nL 107.521431 137.483975 \nL 108.355304 162.551168 \nL 109.189177 160.402552 \nL 110.02305 150.375674 \nL 110.856923 166.848402 \nL 111.690796 172.219943 \nL 112.524669 178.665793 \nL 113.358542 158.612038 \nL 114.192415 160.760655 \nL 115.860161 183.679232 \nL 116.694034 174.726663 \nL 117.527907 175.084765 \nL 118.36178 177.591485 \nL 119.195653 186.544054 \nL 120.029526 211.253145 \nL 120.863399 198.361445 \nL 121.697272 182.604923 \nL 123.365018 175.800971 \nL 124.198891 168.997018 \nL 125.032764 177.233382 \nL 125.866637 175.800971 \nL 126.70051 191.557493 \nL 127.534383 197.287137 \nL 128.368256 193.706109 \nL 129.202129 186.544054 \nL 130.036002 176.159074 \nL 130.869875 160.402552 \nL 131.703748 150.017572 \nL 132.537621 158.253935 \nL 133.371494 160.044449 \nL 134.205367 166.132196 \nL 135.03924 167.92271 \nL 135.873113 178.30769 \nL 136.706986 180.098204 \nL 137.540858 185.469746 \nL 138.374731 192.631801 \nL 139.208604 189.408876 \nL 140.042477 172.936149 \nL 140.87635 166.132196 \nL 141.710223 172.936149 \nL 142.544096 162.551168 \nL 143.377969 157.179627 \nL 144.211842 156.105319 \nL 145.045715 171.503738 \nL 145.879588 171.86184 \nL 146.713461 165.415991 \nL 147.547334 161.47686 \nL 149.21508 143.929825 \nL 150.048953 123.159864 \nL 150.882826 112.416781 \nL 151.716699 105.254726 \nL 152.550572 116.714014 \nL 153.384445 122.443659 \nL 154.218318 116.355912 \nL 155.052191 115.997809 \nL 155.886064 119.220734 \nL 156.719937 131.396228 \nL 157.55381 129.963817 \nL 158.387683 134.977255 \nL 159.221556 129.605714 \nL 160.055429 112.416781 \nL 161.723175 100.59939 \nL 162.557048 103.464212 \nL 163.390921 115.639706 \nL 164.224794 124.592275 \nL 165.058667 127.098995 \nL 165.89254 144.287927 \nL 166.726413 146.794647 \nL 167.560286 147.510852 \nL 168.394159 136.409667 \nL 169.228032 118.862631 \nL 170.061905 119.578836 \nL 171.729651 151.808085 \nL 172.563524 150.733777 \nL 173.397396 130.680022 \nL 174.231269 126.382789 \nL 175.065142 136.767769 \nL 175.899015 129.605714 \nL 177.566761 94.511643 \nL 178.400634 93.437334 \nL 179.234507 99.883184 \nL 180.06838 117.788323 \nL 181.736126 131.396228 \nL 182.569999 117.072117 \nL 183.403872 96.660259 \nL 184.237745 83.410457 \nL 185.071618 96.660259 \nL 185.905491 133.544844 \nL 186.739364 140.7069 \nL 187.573237 137.842078 \nL 188.40711 124.592275 \nL 189.240983 101.673698 \nL 190.074856 94.869746 \nL 190.908729 92.004923 \nL 191.742602 104.53852 \nL 192.576475 126.740892 \nL 193.410348 125.666583 \nL 194.244221 113.849192 \nL 195.078094 124.592275 \nL 195.911967 128.889508 \nL 196.74584 132.112433 \nL 197.579713 132.112433 \nL 198.413586 129.247611 \nL 199.247459 118.504528 \nL 200.081332 110.268165 \nL 201.749078 100.241287 \nL 202.582951 108.835753 \nL 203.416824 104.180417 \nL 204.250697 97.734568 \nL 205.08457 118.504528 \nL 205.918443 127.098995 \nL 207.586189 124.234172 \nL 208.420061 116.355912 \nL 209.253934 103.106109 \nL 210.087807 84.484765 \nL 210.92168 84.842868 \nL 211.755553 84.484765 \nL 212.589426 86.991485 \nL 213.423299 95.227848 \nL 214.257172 100.241287 \nL 215.091045 83.410457 \nL 215.924918 61.924291 \nL 216.758791 60.49188 \nL 217.592664 70.518757 \nL 218.426537 97.734568 \nL 219.26041 104.180417 \nL 220.094283 104.180417 \nL 220.928156 99.166979 \nL 221.762029 92.721129 \nL 222.595902 89.140101 \nL 223.429775 94.869746 \nL 224.263648 94.869746 \nL 225.097521 102.389904 \nL 225.931394 126.382789 \nL 227.59914 107.761445 \nL 228.433013 90.930615 \nL 229.266886 92.004923 \nL 230.100759 94.869746 \nL 230.934632 94.511643 \nL 231.768505 78.397018 \nL 232.602378 55.478441 \nL 233.436251 60.849983 \nL 234.270124 78.755121 \nL 235.103997 84.842868 \nL 235.93787 89.498204 \nL 236.771743 107.761445 \nL 237.605616 112.416781 \nL 238.439489 110.626267 \nL 239.273362 100.241287 \nL 240.107235 93.079232 \nL 240.941108 90.21441 \nL 241.774981 89.856307 \nL 242.608854 84.842868 \nL 243.442726 67.653935 \nL 244.276599 60.849983 \nL 245.110472 45.093461 \nL 245.944345 53.687927 \nL 246.778218 58.343263 \nL 247.612091 46.883975 \nL 248.445964 49.390694 \nL 249.279837 55.478441 \nL 250.11371 56.910852 \nL 250.947583 61.208085 \nL 251.781456 71.951168 \nL 252.615329 71.234963 \nL 253.449202 73.741682 \nL 254.283075 73.741682 \nL 255.116948 73.38358 \nL 255.950821 76.606504 \nL 256.784694 89.498204 \nL 257.618567 105.612829 \nL 258.45244 104.53852 \nL 259.286313 109.551959 \nL 260.120186 104.180417 \nL 260.954059 93.079232 \nL 261.787932 76.606504 \nL 262.621805 48.316386 \nL 263.455678 32.201761 \nL 264.289551 62.282394 \nL 265.123424 104.180417 \nL 265.957297 90.572512 \nL 266.79117 114.565398 \nL 267.625043 114.565398 \nL 268.458916 109.193856 \nL 269.292789 106.687137 \nL 270.126662 96.660259 \nL 270.960535 94.869746 \nL 271.794408 94.511643 \nL 272.628281 92.004923 \nL 273.462154 78.397018 \nL 275.1299 92.363026 \nL 275.963773 99.883184 \nL 276.797646 104.180417 \nL 277.631519 104.53852 \nL 278.465392 100.241287 \nL 279.299264 109.551959 \nL 280.133137 117.072117 \nL 280.96701 107.04524 \nL 282.634756 81.978046 \nL 283.468629 79.829429 \nL 284.302502 78.038916 \nL 285.136375 86.633382 \nL 286.804121 98.450773 \nL 287.637994 97.018362 \nL 288.471867 105.612829 \nL 289.30574 110.626267 \nL 290.139613 126.740892 \nL 290.973486 131.038125 \nL 291.807359 127.098995 \nL 292.641232 129.963817 \nL 293.475105 112.416781 \nL 294.308978 98.808876 \nL 295.142851 99.883184 \nL 295.976724 99.525082 \nL 296.810597 92.721129 \nL 297.64447 100.957493 \nL 298.478343 115.997809 \nL 300.146089 124.592275 \nL 300.979962 131.754331 \nL 301.813835 129.963817 \nL 302.647708 138.916386 \nL 303.481581 139.632591 \nL 304.315454 144.64603 \nL 305.149327 158.253935 \nL 305.9832 150.375674 \nL 306.817073 155.747216 \nL 307.650946 152.882394 \nL 308.484819 141.065002 \nL 309.318692 138.20018 \nL 310.152565 116.714014 \nL 311.820311 136.767769 \nL 312.654184 133.902947 \nL 313.488057 120.653145 \nL 314.321929 119.936939 \nL 315.155802 171.503738 \nL 315.989675 192.273698 \nL 316.823548 199.793856 \nL 317.657421 199.077651 \nL 318.491294 194.064212 \nL 319.325167 186.185951 \nL 320.15904 185.111643 \nL 320.992913 172.219943 \nL 321.826786 161.834963 \nL 322.660659 122.085556 \nL 323.494532 147.510852 \nL 324.328405 165.415991 \nL 325.162278 171.503738 \nL 326.830024 155.03101 \nL 327.663897 158.253935 \nL 328.49777 180.456307 \nL 329.331643 173.294251 \nL 330.165516 187.976465 \nL 330.999389 179.381999 \nL 331.833262 174.726663 \nL 332.667135 164.699785 \nL 333.501008 174.36856 \nL 334.334881 169.713224 \nL 335.168754 176.159074 \nL 336.002627 172.578046 \nL 336.8365 148.227058 \nL 337.670373 190.125082 \nL 338.504246 197.287137 \nL 339.338119 194.064212 \nL 340.171992 172.578046 \nL 341.005865 117.072117 \nL 341.839738 158.970141 \nL 342.673611 194.064212 \nL 343.507484 181.530615 \nL 344.341357 192.631801 \nL 345.17523 174.36856 \nL 346.009103 178.30769 \nL 346.842976 196.570931 \nL 347.676849 178.665793 \nL 348.510722 188.334568 \nL 349.344594 182.604923 \nL 350.178467 182.963026 \nL 351.01234 193.706109 \nL 351.846213 166.490299 \nL 352.680086 177.949587 \nL 353.513959 183.321129 \nL 354.347832 157.53773 \nL 355.181705 169.713224 \nL 356.015578 187.618362 \nL 356.849451 189.408876 \nL 357.683324 195.13852 \nL 358.517197 206.955912 \nL 359.35107 186.544054 \nL 360.184943 201.942473 \nL 360.184943 201.942473 \n\" style=\"fill:none;stroke:#1f77b4;stroke-linecap:square;stroke-width:1.5;\"/>\n   </g>\n   <g id=\"line2d_15\">\n    <path clip-path=\"url(#p696e75a1d0)\" d=\"M 55.821307 196.199484 \nL 56.65518 192.440006 \nL 57.489053 186.961325 \nL 58.322926 186.353899 \nL 60.824545 182.191755 \nL 62.492291 177.795009 \nL 65.827783 175.608405 \nL 66.661656 176.88721 \nL 68.329401 175.617433 \nL 69.163274 176.750324 \nL 70.83102 175.231226 \nL 71.664893 176.291575 \nL 72.498766 175.422482 \nL 73.332639 176.465296 \nL 74.166512 175.527407 \nL 75.000385 176.570199 \nL 75.834258 175.598788 \nL 76.668131 176.655028 \nL 77.502004 175.700722 \nL 78.335877 176.782657 \nL 80.003623 175.095262 \nL 80.837496 176.241027 \nL 81.671369 175.604514 \nL 82.505242 176.810652 \nL 83.339115 176.403073 \nL 84.172988 176.124545 \nL 85.006861 175.981043 \nL 85.840734 175.975513 \nL 86.674607 176.107894 \nL 87.50848 176.375306 \nL 89.176226 177.291564 \nL 90.843972 178.658538 \nL 91.677845 179.484685 \nL 92.511718 177.420909 \nL 94.179464 179.423556 \nL 95.013337 177.359922 \nL 96.681083 179.590354 \nL 97.514956 177.564625 \nL 99.182702 179.814777 \nL 100.016575 177.875986 \nL 101.684321 179.939737 \nL 102.518193 178.158005 \nL 104.185939 179.821663 \nL 105.019812 178.292264 \nL 106.687558 179.333666 \nL 107.521431 179.659629 \nL 108.355304 178.637395 \nL 109.189177 178.665254 \nL 110.02305 178.531665 \nL 110.856923 178.230986 \nL 111.690796 177.759935 \nL 112.524669 177.117767 \nL 113.358542 176.306284 \nL 114.192415 175.329651 \nL 115.860161 174.694212 \nL 117.527907 173.715155 \nL 119.195653 172.416486 \nL 120.029526 171.653628 \nL 121.697272 167.12635 \nL 123.365018 163.991597 \nL 130.036002 163.527875 \nL 131.703748 163.193234 \nL 133.371494 162.654963 \nL 135.03924 161.861042 \nL 135.873113 161.353159 \nL 137.540858 155.956208 \nL 140.87635 153.808701 \nL 144.211842 153.158392 \nL 147.547334 152.316328 \nL 150.048953 151.478374 \nL 151.716699 150.75371 \nL 152.550572 150.324143 \nL 154.218318 144.603741 \nL 155.052191 142.709798 \nL 156.719937 143.028516 \nL 158.387683 143.001112 \nL 160.055429 142.654859 \nL 161.723175 142.02942 \nL 163.390921 141.172088 \nL 165.89254 139.556972 \nL 167.560286 140.181221 \nL 168.394159 139.526204 \nL 169.228032 139.534201 \nL 170.061905 139.411836 \nL 170.895778 139.155241 \nL 171.729651 138.761437 \nL 172.563524 138.228409 \nL 174.231269 136.741365 \nL 175.065142 135.787778 \nL 176.732888 134.451725 \nL 178.400634 132.642265 \nL 179.234507 128.849271 \nL 180.06838 128.261686 \nL 180.902253 127.482267 \nL 181.736126 126.500628 \nL 182.569999 125.308268 \nL 183.403872 126.412256 \nL 184.237745 124.782036 \nL 185.071618 125.78783 \nL 185.905491 123.715447 \nL 187.573237 125.266458 \nL 188.40711 125.847598 \nL 189.240983 122.968987 \nL 190.074856 123.220254 \nL 190.908729 123.280849 \nL 191.742602 123.136352 \nL 192.576475 122.774871 \nL 193.410348 122.187323 \nL 194.244221 121.36761 \nL 195.911967 117.583445 \nL 196.74584 114.09609 \nL 198.413586 111.528027 \nL 199.247459 110.032475 \nL 200.915205 105.714211 \nL 201.749078 104.026193 \nL 202.582951 104.893925 \nL 203.416824 103.049326 \nL 204.250697 103.521137 \nL 205.08457 103.787833 \nL 205.918443 103.846725 \nL 206.752316 103.696941 \nL 207.586189 103.339554 \nL 208.420061 102.777635 \nL 209.253934 102.01624 \nL 210.087807 101.062325 \nL 210.92168 99.924612 \nL 213.423299 99.068427 \nL 215.924918 97.929691 \nL 217.592664 96.958808 \nL 220.928156 93.06116 \nL 223.429775 88.725615 \nL 225.931394 87.068827 \nL 227.59914 85.833228 \nL 228.433013 86.41672 \nL 229.266886 85.763217 \nL 230.100759 86.293729 \nL 230.934632 85.645765 \nL 232.602378 86.604147 \nL 233.436251 86.035974 \nL 234.270124 86.479793 \nL 235.103997 86.01664 \nL 235.93787 86.445366 \nL 236.771743 86.127271 \nL 237.605616 86.553437 \nL 239.273362 86.378539 \nL 240.107235 86.448471 \nL 240.941108 86.630063 \nL 242.608854 87.341795 \nL 244.276599 88.530332 \nL 245.944345 90.19717 \nL 247.612091 90.533496 \nL 249.279837 91.165768 \nL 250.947583 92.110491 \nL 252.615329 93.384862 \nL 253.449202 94.151752 \nL 254.283075 92.240351 \nL 255.950821 94.240524 \nL 256.784694 92.426705 \nL 257.618567 93.686324 \nL 258.45244 92.032898 \nL 259.286313 93.526475 \nL 260.120186 92.109349 \nL 260.954059 93.863347 \nL 261.787932 92.753517 \nL 262.621805 94.794593 \nL 263.455678 94.054894 \nL 264.289551 93.520519 \nL 265.123424 93.202886 \nL 265.957297 95.882326 \nL 266.79117 96.025204 \nL 267.625043 96.40782 \nL 269.292789 97.521684 \nL 270.960535 98.649735 \nL 272.628281 100.004235 \nL 273.462154 100.790297 \nL 274.296027 104.392355 \nL 275.963773 106.613955 \nL 276.797646 107.975906 \nL 278.465392 111.562014 \nL 279.299264 111.905923 \nL 280.133137 112.493323 \nL 280.96701 113.323898 \nL 281.800883 114.394795 \nL 282.634756 115.700734 \nL 283.468629 115.598358 \nL 284.302502 115.820358 \nL 285.136375 116.389025 \nL 285.970248 117.324768 \nL 286.804121 118.6459 \nL 287.637994 119.653013 \nL 288.471867 120.882974 \nL 289.30574 122.338447 \nL 290.973486 124.765085 \nL 291.807359 126.112057 \nL 293.475105 131.96494 \nL 294.308978 131.323975 \nL 295.142851 130.951669 \nL 295.976724 130.843157 \nL 296.810597 130.992144 \nL 297.64447 131.391281 \nL 298.478343 132.032573 \nL 299.312216 132.907777 \nL 300.146089 133.395076 \nL 300.979962 134.233039 \nL 301.813835 135.427644 \nL 302.647708 136.983407 \nL 303.481581 138.133705 \nL 304.315454 139.560647 \nL 305.149327 141.261079 \nL 306.817073 143.822781 \nL 307.650946 143.214341 \nL 308.484819 144.85838 \nL 309.318692 144.55908 \nL 310.152565 144.419124 \nL 310.986438 144.439317 \nL 311.820311 144.618882 \nL 312.654184 144.955703 \nL 313.488057 145.446621 \nL 314.321929 146.087774 \nL 315.989675 147.804096 \nL 316.823548 151.102301 \nL 317.657421 151.994137 \nL 318.491294 153.173236 \nL 319.325167 154.642845 \nL 320.15904 155.805304 \nL 320.992913 157.190394 \nL 321.826786 158.800066 \nL 324.328405 160.569859 \nL 325.996151 161.63988 \nL 326.830024 162.559303 \nL 328.49777 164.971904 \nL 329.331643 166.444653 \nL 331.833262 167.248684 \nL 334.334881 168.325228 \nL 336.8365 169.644356 \nL 338.504246 170.889947 \nL 342.673611 174.613719 \nL 344.341357 176.359546 \nL 346.009103 176.802196 \nL 347.676849 177.668695 \nL 349.344594 178.935266 \nL 350.178467 179.713416 \nL 355.181705 180.281154 \nL 358.517197 180.861709 \nL 359.35107 181.052681 \nL 359.35107 181.052681 \n\" style=\"fill:none;stroke:#ff7f0e;stroke-linecap:square;stroke-width:1.5;\"/>\n   </g>\n   <g id=\"patch_3\">\n    <path d=\"M 40.603125 239.758125 \nL 40.603125 22.318125 \n\" style=\"fill:none;stroke:#000000;stroke-linecap:square;stroke-linejoin:miter;stroke-width:0.8;\"/>\n   </g>\n   <g id=\"patch_4\">\n    <path d=\"M 375.403125 239.758125 \nL 375.403125 22.318125 \n\" style=\"fill:none;stroke:#000000;stroke-linecap:square;stroke-linejoin:miter;stroke-width:0.8;\"/>\n   </g>\n   <g id=\"patch_5\">\n    <path d=\"M 40.603125 239.758125 \nL 375.403125 239.758125 \n\" style=\"fill:none;stroke:#000000;stroke-linecap:square;stroke-linejoin:miter;stroke-width:0.8;\"/>\n   </g>\n   <g id=\"patch_6\">\n    <path d=\"M 40.603125 22.318125 \nL 375.403125 22.318125 \n\" style=\"fill:none;stroke:#000000;stroke-linecap:square;stroke-linejoin:miter;stroke-width:0.8;\"/>\n   </g>\n   <g id=\"text_16\">\n    <!-- LOOCV Predicted and Real Temperature for 2020 - Station 722860 -->\n    <g transform=\"translate(9.66375 16.318125)scale(0.12 -0.12)\">\n     <defs>\n      <path d=\"M 628 4666 \nL 1259 4666 \nL 1259 531 \nL 3531 531 \nL 3531 0 \nL 628 0 \nL 628 4666 \nz\n\" id=\"DejaVuSans-4c\" transform=\"scale(0.015625)\"/>\n      <path d=\"M 2522 4238 \nQ 1834 4238 1429 3725 \nQ 1025 3213 1025 2328 \nQ 1025 1447 1429 934 \nQ 1834 422 2522 422 \nQ 3209 422 3611 934 \nQ 4013 1447 4013 2328 \nQ 4013 3213 3611 3725 \nQ 3209 4238 2522 4238 \nz\nM 2522 4750 \nQ 3503 4750 4090 4092 \nQ 4678 3434 4678 2328 \nQ 4678 1225 4090 567 \nQ 3503 -91 2522 -91 \nQ 1538 -91 948 565 \nQ 359 1222 359 2328 \nQ 359 3434 948 4092 \nQ 1538 4750 2522 4750 \nz\n\" id=\"DejaVuSans-4f\" transform=\"scale(0.015625)\"/>\n      <path d=\"M 4122 4306 \nL 4122 3641 \nQ 3803 3938 3442 4084 \nQ 3081 4231 2675 4231 \nQ 1875 4231 1450 3742 \nQ 1025 3253 1025 2328 \nQ 1025 1406 1450 917 \nQ 1875 428 2675 428 \nQ 3081 428 3442 575 \nQ 3803 722 4122 1019 \nL 4122 359 \nQ 3791 134 3420 21 \nQ 3050 -91 2638 -91 \nQ 1578 -91 968 557 \nQ 359 1206 359 2328 \nQ 359 3453 968 4101 \nQ 1578 4750 2638 4750 \nQ 3056 4750 3426 4639 \nQ 3797 4528 4122 4306 \nz\n\" id=\"DejaVuSans-43\" transform=\"scale(0.015625)\"/>\n      <path d=\"M 1831 0 \nL 50 4666 \nL 709 4666 \nL 2188 738 \nL 3669 4666 \nL 4325 4666 \nL 2547 0 \nL 1831 0 \nz\n\" id=\"DejaVuSans-56\" transform=\"scale(0.015625)\"/>\n      <path id=\"DejaVuSans-20\" transform=\"scale(0.015625)\"/>\n      <path d=\"M 1259 4147 \nL 1259 2394 \nL 2053 2394 \nQ 2494 2394 2734 2622 \nQ 2975 2850 2975 3272 \nQ 2975 3691 2734 3919 \nQ 2494 4147 2053 4147 \nL 1259 4147 \nz\nM 628 4666 \nL 2053 4666 \nQ 2838 4666 3239 4311 \nQ 3641 3956 3641 3272 \nQ 3641 2581 3239 2228 \nQ 2838 1875 2053 1875 \nL 1259 1875 \nL 1259 0 \nL 628 0 \nL 628 4666 \nz\n\" id=\"DejaVuSans-50\" transform=\"scale(0.015625)\"/>\n      <path d=\"M 2906 2969 \nL 2906 4863 \nL 3481 4863 \nL 3481 0 \nL 2906 0 \nL 2906 525 \nQ 2725 213 2448 61 \nQ 2172 -91 1784 -91 \nQ 1150 -91 751 415 \nQ 353 922 353 1747 \nQ 353 2572 751 3078 \nQ 1150 3584 1784 3584 \nQ 2172 3584 2448 3432 \nQ 2725 3281 2906 2969 \nz\nM 947 1747 \nQ 947 1113 1208 752 \nQ 1469 391 1925 391 \nQ 2381 391 2643 752 \nQ 2906 1113 2906 1747 \nQ 2906 2381 2643 2742 \nQ 2381 3103 1925 3103 \nQ 1469 3103 1208 2742 \nQ 947 2381 947 1747 \nz\n\" id=\"DejaVuSans-64\" transform=\"scale(0.015625)\"/>\n      <path d=\"M 603 3500 \nL 1178 3500 \nL 1178 0 \nL 603 0 \nL 603 3500 \nz\nM 603 4863 \nL 1178 4863 \nL 1178 4134 \nL 603 4134 \nL 603 4863 \nz\n\" id=\"DejaVuSans-69\" transform=\"scale(0.015625)\"/>\n      <path d=\"M 3122 3366 \nL 3122 2828 \nQ 2878 2963 2633 3030 \nQ 2388 3097 2138 3097 \nQ 1578 3097 1268 2742 \nQ 959 2388 959 1747 \nQ 959 1106 1268 751 \nQ 1578 397 2138 397 \nQ 2388 397 2633 464 \nQ 2878 531 3122 666 \nL 3122 134 \nQ 2881 22 2623 -34 \nQ 2366 -91 2075 -91 \nQ 1284 -91 818 406 \nQ 353 903 353 1747 \nQ 353 2603 823 3093 \nQ 1294 3584 2113 3584 \nQ 2378 3584 2631 3529 \nQ 2884 3475 3122 3366 \nz\n\" id=\"DejaVuSans-63\" transform=\"scale(0.015625)\"/>\n      <path d=\"M 3513 2113 \nL 3513 0 \nL 2938 0 \nL 2938 2094 \nQ 2938 2591 2744 2837 \nQ 2550 3084 2163 3084 \nQ 1697 3084 1428 2787 \nQ 1159 2491 1159 1978 \nL 1159 0 \nL 581 0 \nL 581 3500 \nL 1159 3500 \nL 1159 2956 \nQ 1366 3272 1645 3428 \nQ 1925 3584 2291 3584 \nQ 2894 3584 3203 3211 \nQ 3513 2838 3513 2113 \nz\n\" id=\"DejaVuSans-6e\" transform=\"scale(0.015625)\"/>\n      <path d=\"M 2841 2188 \nQ 3044 2119 3236 1894 \nQ 3428 1669 3622 1275 \nL 4263 0 \nL 3584 0 \nL 2988 1197 \nQ 2756 1666 2539 1819 \nQ 2322 1972 1947 1972 \nL 1259 1972 \nL 1259 0 \nL 628 0 \nL 628 4666 \nL 2053 4666 \nQ 2853 4666 3247 4331 \nQ 3641 3997 3641 3322 \nQ 3641 2881 3436 2590 \nQ 3231 2300 2841 2188 \nz\nM 1259 4147 \nL 1259 2491 \nL 2053 2491 \nQ 2509 2491 2742 2702 \nQ 2975 2913 2975 3322 \nQ 2975 3731 2742 3939 \nQ 2509 4147 2053 4147 \nL 1259 4147 \nz\n\" id=\"DejaVuSans-52\" transform=\"scale(0.015625)\"/>\n      <path d=\"M 603 4863 \nL 1178 4863 \nL 1178 0 \nL 603 0 \nL 603 4863 \nz\n\" id=\"DejaVuSans-6c\" transform=\"scale(0.015625)\"/>\n      <path d=\"M 2375 4863 \nL 2375 4384 \nL 1825 4384 \nQ 1516 4384 1395 4259 \nQ 1275 4134 1275 3809 \nL 1275 3500 \nL 2222 3500 \nL 2222 3053 \nL 1275 3053 \nL 1275 0 \nL 697 0 \nL 697 3053 \nL 147 3053 \nL 147 3500 \nL 697 3500 \nL 697 3744 \nQ 697 4328 969 4595 \nQ 1241 4863 1831 4863 \nL 2375 4863 \nz\n\" id=\"DejaVuSans-66\" transform=\"scale(0.015625)\"/>\n      <path d=\"M 1959 3097 \nQ 1497 3097 1228 2736 \nQ 959 2375 959 1747 \nQ 959 1119 1226 758 \nQ 1494 397 1959 397 \nQ 2419 397 2687 759 \nQ 2956 1122 2956 1747 \nQ 2956 2369 2687 2733 \nQ 2419 3097 1959 3097 \nz\nM 1959 3584 \nQ 2709 3584 3137 3096 \nQ 3566 2609 3566 1747 \nQ 3566 888 3137 398 \nQ 2709 -91 1959 -91 \nQ 1206 -91 779 398 \nQ 353 888 353 1747 \nQ 353 2609 779 3096 \nQ 1206 3584 1959 3584 \nz\n\" id=\"DejaVuSans-6f\" transform=\"scale(0.015625)\"/>\n      <path d=\"M 3425 4513 \nL 3425 3897 \nQ 3066 4069 2747 4153 \nQ 2428 4238 2131 4238 \nQ 1616 4238 1336 4038 \nQ 1056 3838 1056 3469 \nQ 1056 3159 1242 3001 \nQ 1428 2844 1947 2747 \nL 2328 2669 \nQ 3034 2534 3370 2195 \nQ 3706 1856 3706 1288 \nQ 3706 609 3251 259 \nQ 2797 -91 1919 -91 \nQ 1588 -91 1214 -16 \nQ 841 59 441 206 \nL 441 856 \nQ 825 641 1194 531 \nQ 1563 422 1919 422 \nQ 2459 422 2753 634 \nQ 3047 847 3047 1241 \nQ 3047 1584 2836 1778 \nQ 2625 1972 2144 2069 \nL 1759 2144 \nQ 1053 2284 737 2584 \nQ 422 2884 422 3419 \nQ 422 4038 858 4394 \nQ 1294 4750 2059 4750 \nQ 2388 4750 2728 4690 \nQ 3069 4631 3425 4513 \nz\n\" id=\"DejaVuSans-53\" transform=\"scale(0.015625)\"/>\n     </defs>\n     <use xlink:href=\"#DejaVuSans-4c\"/>\n     <use x=\"52.087891\" xlink:href=\"#DejaVuSans-4f\"/>\n     <use x=\"130.798828\" xlink:href=\"#DejaVuSans-4f\"/>\n     <use x=\"209.509766\" xlink:href=\"#DejaVuSans-43\"/>\n     <use x=\"279.333984\" xlink:href=\"#DejaVuSans-56\"/>\n     <use x=\"347.742188\" xlink:href=\"#DejaVuSans-20\"/>\n     <use x=\"379.529297\" xlink:href=\"#DejaVuSans-50\"/>\n     <use x=\"438.082031\" xlink:href=\"#DejaVuSans-72\"/>\n     <use x=\"476.945312\" xlink:href=\"#DejaVuSans-65\"/>\n     <use x=\"538.46875\" xlink:href=\"#DejaVuSans-64\"/>\n     <use x=\"601.945312\" xlink:href=\"#DejaVuSans-69\"/>\n     <use x=\"629.728516\" xlink:href=\"#DejaVuSans-63\"/>\n     <use x=\"684.708984\" xlink:href=\"#DejaVuSans-74\"/>\n     <use x=\"723.917969\" xlink:href=\"#DejaVuSans-65\"/>\n     <use x=\"785.441406\" xlink:href=\"#DejaVuSans-64\"/>\n     <use x=\"848.917969\" xlink:href=\"#DejaVuSans-20\"/>\n     <use x=\"880.705078\" xlink:href=\"#DejaVuSans-61\"/>\n     <use x=\"941.984375\" xlink:href=\"#DejaVuSans-6e\"/>\n     <use x=\"1005.363281\" xlink:href=\"#DejaVuSans-64\"/>\n     <use x=\"1068.839844\" xlink:href=\"#DejaVuSans-20\"/>\n     <use x=\"1100.626953\" xlink:href=\"#DejaVuSans-52\"/>\n     <use x=\"1165.609375\" xlink:href=\"#DejaVuSans-65\"/>\n     <use x=\"1227.132812\" xlink:href=\"#DejaVuSans-61\"/>\n     <use x=\"1288.412109\" xlink:href=\"#DejaVuSans-6c\"/>\n     <use x=\"1316.195312\" xlink:href=\"#DejaVuSans-20\"/>\n     <use x=\"1347.982422\" xlink:href=\"#DejaVuSans-54\"/>\n     <use x=\"1392.066406\" xlink:href=\"#DejaVuSans-65\"/>\n     <use x=\"1453.589844\" xlink:href=\"#DejaVuSans-6d\"/>\n     <use x=\"1551.001953\" xlink:href=\"#DejaVuSans-70\"/>\n     <use x=\"1614.478516\" xlink:href=\"#DejaVuSans-65\"/>\n     <use x=\"1676.001953\" xlink:href=\"#DejaVuSans-72\"/>\n     <use x=\"1717.115234\" xlink:href=\"#DejaVuSans-61\"/>\n     <use x=\"1778.394531\" xlink:href=\"#DejaVuSans-74\"/>\n     <use x=\"1817.603516\" xlink:href=\"#DejaVuSans-75\"/>\n     <use x=\"1880.982422\" xlink:href=\"#DejaVuSans-72\"/>\n     <use x=\"1919.845703\" xlink:href=\"#DejaVuSans-65\"/>\n     <use x=\"1981.369141\" xlink:href=\"#DejaVuSans-20\"/>\n     <use x=\"2013.15625\" xlink:href=\"#DejaVuSans-66\"/>\n     <use x=\"2048.361328\" xlink:href=\"#DejaVuSans-6f\"/>\n     <use x=\"2109.542969\" xlink:href=\"#DejaVuSans-72\"/>\n     <use x=\"2150.65625\" xlink:href=\"#DejaVuSans-20\"/>\n     <use x=\"2182.443359\" xlink:href=\"#DejaVuSans-32\"/>\n     <use x=\"2246.066406\" xlink:href=\"#DejaVuSans-30\"/>\n     <use x=\"2309.689453\" xlink:href=\"#DejaVuSans-32\"/>\n     <use x=\"2373.3125\" xlink:href=\"#DejaVuSans-30\"/>\n     <use x=\"2436.935547\" xlink:href=\"#DejaVuSans-20\"/>\n     <use x=\"2468.722656\" xlink:href=\"#DejaVuSans-2d\"/>\n     <use x=\"2504.806641\" xlink:href=\"#DejaVuSans-20\"/>\n     <use x=\"2536.59375\" xlink:href=\"#DejaVuSans-53\"/>\n     <use x=\"2600.070312\" xlink:href=\"#DejaVuSans-74\"/>\n     <use x=\"2639.279297\" xlink:href=\"#DejaVuSans-61\"/>\n     <use x=\"2700.558594\" xlink:href=\"#DejaVuSans-74\"/>\n     <use x=\"2739.767578\" xlink:href=\"#DejaVuSans-69\"/>\n     <use x=\"2767.550781\" xlink:href=\"#DejaVuSans-6f\"/>\n     <use x=\"2828.732422\" xlink:href=\"#DejaVuSans-6e\"/>\n     <use x=\"2892.111328\" xlink:href=\"#DejaVuSans-20\"/>\n     <use x=\"2923.898438\" xlink:href=\"#DejaVuSans-37\"/>\n     <use x=\"2987.521484\" xlink:href=\"#DejaVuSans-32\"/>\n     <use x=\"3051.144531\" xlink:href=\"#DejaVuSans-32\"/>\n     <use x=\"3114.767578\" xlink:href=\"#DejaVuSans-38\"/>\n     <use x=\"3178.390625\" xlink:href=\"#DejaVuSans-36\"/>\n     <use x=\"3242.013672\" xlink:href=\"#DejaVuSans-30\"/>\n    </g>\n   </g>\n   <g id=\"legend_1\">\n    <g id=\"patch_7\">\n     <path d=\"M 286.729687 59.674375 \nL 368.403125 59.674375 \nQ 370.403125 59.674375 370.403125 57.674375 \nL 370.403125 29.318125 \nQ 370.403125 27.318125 368.403125 27.318125 \nL 286.729687 27.318125 \nQ 284.729687 27.318125 284.729687 29.318125 \nL 284.729687 57.674375 \nQ 284.729687 59.674375 286.729687 59.674375 \nz\n\" style=\"fill:#ffffff;opacity:0.8;stroke:#cccccc;stroke-linejoin:miter;\"/>\n    </g>\n    <g id=\"line2d_16\">\n     <path d=\"M 288.729687 35.416562 \nL 308.729687 35.416562 \n\" style=\"fill:none;stroke:#1f77b4;stroke-linecap:square;stroke-width:1.5;\"/>\n    </g>\n    <g id=\"line2d_17\"/>\n    <g id=\"text_17\">\n     <!-- Real -->\n     <g transform=\"translate(316.729687 38.916562)scale(0.1 -0.1)\">\n      <use xlink:href=\"#DejaVuSans-52\"/>\n      <use x=\"64.982422\" xlink:href=\"#DejaVuSans-65\"/>\n      <use x=\"126.505859\" xlink:href=\"#DejaVuSans-61\"/>\n      <use x=\"187.785156\" xlink:href=\"#DejaVuSans-6c\"/>\n     </g>\n    </g>\n    <g id=\"line2d_18\">\n     <path d=\"M 288.729687 50.094687 \nL 308.729687 50.094687 \n\" style=\"fill:none;stroke:#ff7f0e;stroke-linecap:square;stroke-width:1.5;\"/>\n    </g>\n    <g id=\"line2d_19\"/>\n    <g id=\"text_18\">\n     <!-- Prediction -->\n     <g transform=\"translate(316.729687 53.594687)scale(0.1 -0.1)\">\n      <use xlink:href=\"#DejaVuSans-50\"/>\n      <use x=\"58.552734\" xlink:href=\"#DejaVuSans-72\"/>\n      <use x=\"97.416016\" xlink:href=\"#DejaVuSans-65\"/>\n      <use x=\"158.939453\" xlink:href=\"#DejaVuSans-64\"/>\n      <use x=\"222.416016\" xlink:href=\"#DejaVuSans-69\"/>\n      <use x=\"250.199219\" xlink:href=\"#DejaVuSans-63\"/>\n      <use x=\"305.179688\" xlink:href=\"#DejaVuSans-74\"/>\n      <use x=\"344.388672\" xlink:href=\"#DejaVuSans-69\"/>\n      <use x=\"372.171875\" xlink:href=\"#DejaVuSans-6f\"/>\n      <use x=\"433.353516\" xlink:href=\"#DejaVuSans-6e\"/>\n     </g>\n    </g>\n   </g>\n  </g>\n </g>\n <defs>\n  <clipPath id=\"p696e75a1d0\">\n   <rect height=\"217.44\" width=\"334.8\" x=\"40.603125\" y=\"22.318125\"/>\n  </clipPath>\n </defs>\n</svg>\n"
     },
     "metadata": {
      "needs_background": "light"
     }
    }
   ],
   "metadata": {}
  },
  {
   "cell_type": "markdown",
   "source": [
    "What is the error of this model?"
   ],
   "metadata": {}
  },
  {
   "cell_type": "code",
   "execution_count": 7,
   "source": [
    "rmse = np.average(((t[1:] - itms) ** 2) ** 0.5)\n",
    "rmse"
   ],
   "outputs": [
    {
     "output_type": "execute_result",
     "data": {
      "text/plain": [
       "4.4664919157102885"
      ]
     },
     "metadata": {},
     "execution_count": 7
    }
   ],
   "metadata": {}
  }
 ],
 "metadata": {
  "kernelspec": {
   "name": "python3",
   "display_name": "Python 3.9.6 64-bit ('tfmacos': conda)"
  },
  "language_info": {
   "codemirror_mode": {
    "name": "ipython",
    "version": 3
   },
   "file_extension": ".py",
   "mimetype": "text/x-python",
   "name": "python",
   "nbconvert_exporter": "python",
   "pygments_lexer": "ipython3",
   "version": "3.9.6"
  },
  "interpreter": {
   "hash": "f99daee9da00cad97164893551c620e324ab25062d17d369bc043b9ae7fe2d36"
  }
 },
 "nbformat": 4,
 "nbformat_minor": 5
}