{
 "cells": [
  {
   "cell_type": "code",
   "execution_count": 3,
   "id": "modular-atlantic",
   "metadata": {},
   "outputs": [
    {
     "name": "stdout",
     "output_type": "stream",
     "text": [
      "Import publicMethod\n"
     ]
    }
   ],
   "source": [
    "import numpy as np\n",
    "import os\n",
    "import gsod\n",
    "import publicMethod"
   ]
  },
  {
   "cell_type": "code",
   "execution_count": 4,
   "id": "cosmetic-emerald",
   "metadata": {},
   "outputs": [],
   "source": [
    "LOAD_PATH = \"./npy/\"\n",
    "raw_avg = np.load(f\"{LOAD_PATH}raw_avg_722860.npy\")\n",
    "raw_min = np.load(f\"{LOAD_PATH}raw_min_722860.npy\")\n",
    "raw_max = np.load(f\"{LOAD_PATH}raw_max_722860.npy\")"
   ]
  },
  {
   "cell_type": "code",
   "execution_count": 6,
   "id": "regular-clone",
   "metadata": {},
   "outputs": [],
   "source": [
    "train_index = int(0.75*len(raw_avg))"
   ]
  },
  {
   "cell_type": "code",
   "execution_count": 46,
   "id": "persistent-witness",
   "metadata": {},
   "outputs": [
    {
     "data": {
      "text/plain": [
       "(8074, 21)"
      ]
     },
     "execution_count": 46,
     "metadata": {},
     "output_type": "execute_result"
    }
   ],
   "source": [
    "train_data = np.concatenate([train_data_avg, train_data_min, train_data_max], axis = 1)\n",
    "test_data = np.concatenate([test_data_avg, test_data_min, test_data_max], axis = 1)"
   ]
  },
  {
   "cell_type": "markdown",
   "id": "better-commerce",
   "metadata": {},
   "source": [
    "# Loading model"
   ]
  },
  {
   "cell_type": "code",
   "execution_count": 30,
   "id": "irish-visibility",
   "metadata": {},
   "outputs": [],
   "source": [
    "import tensorflow as tf\n",
    "import numpy as np"
   ]
  },
  {
   "cell_type": "code",
   "execution_count": 31,
   "id": "hawaiian-trail",
   "metadata": {},
   "outputs": [],
   "source": [
    "model = tf.keras.Sequential([\n",
    "        tf.keras.layers.Flatten(input_shape=(21,)),\n",
    "        tf.keras.layers.Dense(128),\n",
    "        tf.keras.layers.Dense(128),\n",
    "        tf.keras.layers.Dense(128),\n",
    "        tf.keras.layers.Dropout(0.2),\n",
    "        tf.keras.layers.Dense(64),\n",
    "        tf.keras.layers.Dense(1)\n",
    "    ])"
   ]
  },
  {
   "cell_type": "markdown",
   "id": "caroline-shelf",
   "metadata": {},
   "source": [
    "# Generate data point to imfs"
   ]
  },
  {
   "cell_type": "code",
   "execution_count": 7,
   "id": "early-canberra",
   "metadata": {},
   "outputs": [],
   "source": [
    "import pyeemd\n",
    "def eemd(tem_list):\n",
    "    tem_avg_array = np.array(tem_list)\n",
    "    imfs = pyeemd.ceemdan(tem_list)\n",
    "    return imfs\n"
   ]
  },
  {
   "cell_type": "code",
   "execution_count": null,
   "id": "5c8aaef7",
   "metadata": {},
   "outputs": [],
   "source": [
    "avg_imfs = eemd(raw_avg)\n",
    "min_imfs = eemd(raw_min)\n",
    "max_imfs = eemd(raw_max)"
   ]
  },
  {
   "cell_type": "code",
   "execution_count": null,
   "id": "c853b152",
   "metadata": {},
   "outputs": [],
   "source": [
    "(avg_imfs, train_label), (avg_imfs, test_label) = publicMethod.generate(train_index, raw_avg)\n",
    "(min_imfs, _), (min_imfs, _) = publicMethod.generate(train_index, raw_min)\n",
    "(max_imfs, _), (max_imfs, _) = publicMethod.generate(train_index, raw_max)\n",
    "# assert len(sliding_avg) == len(sliding_min) and len(sliding_avg) == len(sliding_max) and len(sliding_min) == len(sliding_max)"
   ]
  },
  {
   "cell_type": "markdown",
   "id": "equivalent-tourism",
   "metadata": {},
   "source": [
    "#### params"
   ]
  },
  {
   "cell_type": "code",
   "execution_count": null,
   "id": "chemical-republican",
   "metadata": {},
   "outputs": [],
   "source": [
    "SITE_CODE = \"722860\"\n",
    "PROJECT_PATH = \"tf_model_compare_params\"\n",
    "time = \"20210805-000107\"\n",
    "name = \"combine_3_eemd_data\"\n",
    "SAVE_PATH = f\"{PROJECT_PATH}/tf_model_params_LR_{SITE_CODE}_{time}\""
   ]
  },
  {
   "cell_type": "code",
   "execution_count": null,
   "id": "applied-script",
   "metadata": {},
   "outputs": [],
   "source": [
    "predict = 0\n",
    "for i in range(1):\n",
    "    model.load_weights(f'{SAVE_PATH}/{SITE_CODE}_{name}_imf{i}.params')\n",
    "    predict += model.predict(np.concatenate([avg_imfs[i], avg_imfs[i], avg_imfs[i]], axis = 1))"
   ]
  },
  {
   "cell_type": "code",
   "execution_count": null,
   "id": "congressional-honey",
   "metadata": {},
   "outputs": [],
   "source": [
    "np.sum(((predict - test_label)**2))/len(test_label)"
   ]
  },
  {
   "cell_type": "code",
   "execution_count": null,
   "id": "comfortable-handy",
   "metadata": {},
   "outputs": [],
   "source": []
  }
 ],
 "metadata": {
  "kernelspec": {
   "display_name": "Python 3",
   "language": "python",
   "name": "python3"
  },
  "language_info": {
   "codemirror_mode": {
    "name": "ipython",
    "version": 3
   },
   "file_extension": ".py",
   "mimetype": "text/x-python",
   "name": "python",
   "nbconvert_exporter": "python",
   "pygments_lexer": "ipython3",
   "version": "3.8.10"
  }
 },
 "nbformat": 4,
 "nbformat_minor": 5
}
