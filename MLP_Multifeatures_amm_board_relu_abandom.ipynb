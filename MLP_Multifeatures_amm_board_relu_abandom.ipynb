{
 "cells": [
  {
   "cell_type": "code",
   "execution_count": 1,
   "id": "motivated-truck",
   "metadata": {},
   "outputs": [
    {
     "name": "stdout",
     "output_type": "stream",
     "text": [
      "Defaulting to user installation because normal site-packages is not writeable\n",
      "Looking in indexes: https://pypi.tuna.tsinghua.edu.cn/simple\n",
      "Requirement already satisfied: pip in /Users/lishuyu/Library/Python/3.7/lib/python/site-packages (21.2.2)\n",
      "Defaulting to user installation because normal site-packages is not writeable\n",
      "Looking in indexes: https://pypi.tuna.tsinghua.edu.cn/simple\n",
      "Requirement already satisfied: tensorflow in /Library/Frameworks/Python.framework/Versions/3.7/lib/python3.7/site-packages (2.4.1)\n",
      "Requirement already satisfied: matplotlib in /Library/Frameworks/Python.framework/Versions/3.7/lib/python3.7/site-packages (3.3.4)\n",
      "Requirement already satisfied: numpy in /Users/lishuyu/Library/Python/3.7/lib/python/site-packages (1.19.5)\n",
      "Requirement already satisfied: termcolor~=1.1.0 in /Library/Frameworks/Python.framework/Versions/3.7/lib/python3.7/site-packages (from tensorflow) (1.1.0)\n",
      "Requirement already satisfied: astunparse~=1.6.3 in /Library/Frameworks/Python.framework/Versions/3.7/lib/python3.7/site-packages (from tensorflow) (1.6.3)\n",
      "Requirement already satisfied: typing-extensions~=3.7.4 in /Library/Frameworks/Python.framework/Versions/3.7/lib/python3.7/site-packages (from tensorflow) (3.7.4.3)\n",
      "Requirement already satisfied: wrapt~=1.12.1 in /Library/Frameworks/Python.framework/Versions/3.7/lib/python3.7/site-packages (from tensorflow) (1.12.1)\n",
      "Requirement already satisfied: absl-py~=0.10 in /Library/Frameworks/Python.framework/Versions/3.7/lib/python3.7/site-packages (from tensorflow) (0.12.0)\n",
      "Requirement already satisfied: protobuf>=3.9.2 in /Library/Frameworks/Python.framework/Versions/3.7/lib/python3.7/site-packages (from tensorflow) (3.15.6)\n",
      "Requirement already satisfied: tensorboard~=2.4 in /Library/Frameworks/Python.framework/Versions/3.7/lib/python3.7/site-packages (from tensorflow) (2.4.1)\n",
      "Requirement already satisfied: google-pasta~=0.2 in /Library/Frameworks/Python.framework/Versions/3.7/lib/python3.7/site-packages (from tensorflow) (0.2.0)\n",
      "Requirement already satisfied: tensorflow-estimator<2.5.0,>=2.4.0 in /Library/Frameworks/Python.framework/Versions/3.7/lib/python3.7/site-packages (from tensorflow) (2.4.0)\n",
      "Requirement already satisfied: gast==0.3.3 in /Library/Frameworks/Python.framework/Versions/3.7/lib/python3.7/site-packages (from tensorflow) (0.3.3)\n",
      "Requirement already satisfied: six~=1.15.0 in /Library/Frameworks/Python.framework/Versions/3.7/lib/python3.7/site-packages (from tensorflow) (1.15.0)\n",
      "Requirement already satisfied: keras-preprocessing~=1.1.2 in /Library/Frameworks/Python.framework/Versions/3.7/lib/python3.7/site-packages (from tensorflow) (1.1.2)\n",
      "Requirement already satisfied: flatbuffers~=1.12.0 in /Library/Frameworks/Python.framework/Versions/3.7/lib/python3.7/site-packages (from tensorflow) (1.12)\n",
      "Requirement already satisfied: wheel~=0.35 in /Library/Frameworks/Python.framework/Versions/3.7/lib/python3.7/site-packages (from tensorflow) (0.36.2)\n",
      "Requirement already satisfied: h5py~=2.10.0 in /Library/Frameworks/Python.framework/Versions/3.7/lib/python3.7/site-packages (from tensorflow) (2.10.0)\n",
      "Requirement already satisfied: grpcio~=1.32.0 in /Library/Frameworks/Python.framework/Versions/3.7/lib/python3.7/site-packages (from tensorflow) (1.32.0)\n",
      "Requirement already satisfied: opt-einsum~=3.3.0 in /Library/Frameworks/Python.framework/Versions/3.7/lib/python3.7/site-packages (from tensorflow) (3.3.0)\n",
      "Requirement already satisfied: pillow>=6.2.0 in /Library/Frameworks/Python.framework/Versions/3.7/lib/python3.7/site-packages (from matplotlib) (8.1.2)\n",
      "Requirement already satisfied: cycler>=0.10 in /Library/Frameworks/Python.framework/Versions/3.7/lib/python3.7/site-packages (from matplotlib) (0.10.0)\n",
      "Requirement already satisfied: kiwisolver>=1.0.1 in /Library/Frameworks/Python.framework/Versions/3.7/lib/python3.7/site-packages (from matplotlib) (1.3.1)\n",
      "Requirement already satisfied: python-dateutil>=2.1 in /Users/lishuyu/Library/Python/3.7/lib/python/site-packages (from matplotlib) (2.8.1)\n",
      "Requirement already satisfied: pyparsing!=2.0.4,!=2.1.2,!=2.1.6,>=2.0.3 in /Library/Frameworks/Python.framework/Versions/3.7/lib/python3.7/site-packages (from matplotlib) (2.4.7)\n",
      "Requirement already satisfied: tensorboard-plugin-wit>=1.6.0 in /Library/Frameworks/Python.framework/Versions/3.7/lib/python3.7/site-packages (from tensorboard~=2.4->tensorflow) (1.8.0)\n",
      "Requirement already satisfied: google-auth-oauthlib<0.5,>=0.4.1 in /Library/Frameworks/Python.framework/Versions/3.7/lib/python3.7/site-packages (from tensorboard~=2.4->tensorflow) (0.4.3)\n",
      "Requirement already satisfied: setuptools>=41.0.0 in /Library/Frameworks/Python.framework/Versions/3.7/lib/python3.7/site-packages (from tensorboard~=2.4->tensorflow) (47.1.0)\n",
      "Requirement already satisfied: werkzeug>=0.11.15 in /Library/Frameworks/Python.framework/Versions/3.7/lib/python3.7/site-packages (from tensorboard~=2.4->tensorflow) (1.0.1)\n",
      "Requirement already satisfied: requests<3,>=2.21.0 in /Library/Frameworks/Python.framework/Versions/3.7/lib/python3.7/site-packages (from tensorboard~=2.4->tensorflow) (2.25.1)\n",
      "Requirement already satisfied: google-auth<2,>=1.6.3 in /Library/Frameworks/Python.framework/Versions/3.7/lib/python3.7/site-packages (from tensorboard~=2.4->tensorflow) (1.28.0)\n",
      "Requirement already satisfied: markdown>=2.6.8 in /Library/Frameworks/Python.framework/Versions/3.7/lib/python3.7/site-packages (from tensorboard~=2.4->tensorflow) (3.3.4)\n",
      "Requirement already satisfied: pyasn1-modules>=0.2.1 in /Library/Frameworks/Python.framework/Versions/3.7/lib/python3.7/site-packages (from google-auth<2,>=1.6.3->tensorboard~=2.4->tensorflow) (0.2.8)\n",
      "Requirement already satisfied: rsa<5,>=3.1.4 in /Library/Frameworks/Python.framework/Versions/3.7/lib/python3.7/site-packages (from google-auth<2,>=1.6.3->tensorboard~=2.4->tensorflow) (4.7.2)\n",
      "Requirement already satisfied: cachetools<5.0,>=2.0.0 in /Library/Frameworks/Python.framework/Versions/3.7/lib/python3.7/site-packages (from google-auth<2,>=1.6.3->tensorboard~=2.4->tensorflow) (4.2.1)\n",
      "Requirement already satisfied: requests-oauthlib>=0.7.0 in /Library/Frameworks/Python.framework/Versions/3.7/lib/python3.7/site-packages (from google-auth-oauthlib<0.5,>=0.4.1->tensorboard~=2.4->tensorflow) (1.3.0)\n",
      "Requirement already satisfied: importlib-metadata in /Library/Frameworks/Python.framework/Versions/3.7/lib/python3.7/site-packages (from markdown>=2.6.8->tensorboard~=2.4->tensorflow) (3.7.3)\n",
      "Requirement already satisfied: pyasn1<0.5.0,>=0.4.6 in /Library/Frameworks/Python.framework/Versions/3.7/lib/python3.7/site-packages (from pyasn1-modules>=0.2.1->google-auth<2,>=1.6.3->tensorboard~=2.4->tensorflow) (0.4.8)\n",
      "Requirement already satisfied: certifi>=2017.4.17 in /Library/Frameworks/Python.framework/Versions/3.7/lib/python3.7/site-packages (from requests<3,>=2.21.0->tensorboard~=2.4->tensorflow) (2020.12.5)\n",
      "Requirement already satisfied: chardet<5,>=3.0.2 in /Library/Frameworks/Python.framework/Versions/3.7/lib/python3.7/site-packages (from requests<3,>=2.21.0->tensorboard~=2.4->tensorflow) (4.0.0)\n",
      "Requirement already satisfied: urllib3<1.27,>=1.21.1 in /Library/Frameworks/Python.framework/Versions/3.7/lib/python3.7/site-packages (from requests<3,>=2.21.0->tensorboard~=2.4->tensorflow) (1.26.4)\n",
      "Requirement already satisfied: idna<3,>=2.5 in /Library/Frameworks/Python.framework/Versions/3.7/lib/python3.7/site-packages (from requests<3,>=2.21.0->tensorboard~=2.4->tensorflow) (2.10)\n",
      "Requirement already satisfied: oauthlib>=3.0.0 in /Library/Frameworks/Python.framework/Versions/3.7/lib/python3.7/site-packages (from requests-oauthlib>=0.7.0->google-auth-oauthlib<0.5,>=0.4.1->tensorboard~=2.4->tensorflow) (3.1.0)\n",
      "Requirement already satisfied: zipp>=0.5 in /Library/Frameworks/Python.framework/Versions/3.7/lib/python3.7/site-packages (from importlib-metadata->markdown>=2.6.8->tensorboard~=2.4->tensorflow) (3.4.1)\n"
     ]
    }
   ],
   "source": [
    "!pip3 install --upgrade pip\n",
    "!pip3 install tensorflow matplotlib numpy"
   ]
  },
  {
   "cell_type": "code",
   "execution_count": 2,
   "id": "smoking-plate",
   "metadata": {},
   "outputs": [
    {
     "name": "stdout",
     "output_type": "stream",
     "text": [
      "Import publicMethod\n"
     ]
    }
   ],
   "source": [
    "import tensorflow as tf\n",
    "import numpy as np\n",
    "import os, time\n",
    "import matplotlib.pyplot as plt\n",
    "from datetime import datetime\n",
    "from packaging import version\n",
    "%matplotlib inline\n",
    "# Load the TensorBoard notebook extension.\n",
    "%load_ext tensorboard\n",
    "\n",
    "import publicMethod"
   ]
  },
  {
   "cell_type": "code",
   "execution_count": 3,
   "id": "initial-shopper",
   "metadata": {},
   "outputs": [
    {
     "name": "stdout",
     "output_type": "stream",
     "text": [
      "TensorFlow version:  2.4.1 \n",
      "Device avaliable now: [PhysicalDevice(name='/physical_device:CPU:0', device_type='CPU')]\n"
     ]
    }
   ],
   "source": [
    "# tf.keras.optimizers.Optimizer?\n",
    "# tf.keras.optimizers.SGD?\n",
    "# tf.keras.optimizers.Adam?\n",
    "# tf.saved_model.save?\n",
    "# tf.saved_model.load?\n",
    "\n",
    "print(\"TensorFlow version: \", tf.__version__, \"\\nDevice avaliable now:\",tf.config.get_visible_devices())\n",
    "assert version.parse(tf.__version__).release[0] >= 2, \\\n",
    "\"This notebook requires TensorFlow 2.0 or above.\""
   ]
  },
  {
   "cell_type": "code",
   "execution_count": 4,
   "id": "enclosed-bridges",
   "metadata": {},
   "outputs": [],
   "source": [
    "logdir = \"logs/scalars/\" + datetime.now().strftime(\"%Y%m%d-%H%M%S\")\n",
    "tensorboard_callback = tf.keras.callbacks.TensorBoard(log_dir=logdir)"
   ]
  },
  {
   "cell_type": "code",
   "execution_count": 5,
   "id": "impressed-jacob",
   "metadata": {},
   "outputs": [
    {
     "ename": "SyntaxError",
     "evalue": "invalid syntax (<ipython-input-5-6a6d77f7912d>, line 3)",
     "output_type": "error",
     "traceback": [
      "\u001b[0;36m  File \u001b[0;32m\"<ipython-input-5-6a6d77f7912d>\"\u001b[0;36m, line \u001b[0;32m3\u001b[0m\n\u001b[0;31m    SAVE_PATH = f\"tf_model_compare_params/tf_model_params_relu_{SITE_CODE}_{datetime.now().strftime(\"%Y%m%d-%H%M%S\")}/\"\u001b[0m\n\u001b[0m                                                                                                            ^\u001b[0m\n\u001b[0;31mSyntaxError\u001b[0m\u001b[0;31m:\u001b[0m invalid syntax\n"
     ]
    }
   ],
   "source": [
    "LOAD_PATH = \"./npy/\"\n",
    "SITE_CODE = \"722860\"\n",
    "SAVE_PATH = f\"tf_model_compare_params/tf_model_params_relu_{SITE_CODE}_{datetime.now().strftime(\"%Y%m%d-%H%M%S\")}/\"\n",
    "try:\n",
    "    os.mkdir(SAVE_PATH)\n",
    "except: pass\n",
    "\n",
    "paths = []\n",
    "for dirname, _, filenames in os.walk(LOAD_PATH):\n",
    "    for filename in filenames:\n",
    "        paths.append(os.path.join(dirname, filename))\n",
    "print(paths)"
   ]
  },
  {
   "cell_type": "code",
   "execution_count": null,
   "id": "confirmed-timothy",
   "metadata": {},
   "outputs": [],
   "source": [
    "def construct_model(train_data, train_label, test_data, test_label):\n",
    "    #strategy = tf.distribute.MirroredStrategy()\n",
    "    #with strategy.scope():\n",
    "    model = tf.keras.Sequential([\n",
    "        tf.keras.layers.Flatten(input_shape=(21,)),\n",
    "        tf.keras.layers.Dense(128, activation = \"relu\"),\n",
    "        tf.keras.layers.Dense(128, activation = \"relu\"),\n",
    "        tf.keras.layers.Dense(128, activation = \"relu\"),\n",
    "        tf.keras.layers.Dropout(0.2),\n",
    "        tf.keras.layers.Dense(64, activation = \"relu\"),\n",
    "        tf.keras.layers.Dense(1)\n",
    "    ])\n",
    "    model.compile(optimizer=tf.keras.optimizers.SGD(lr = 1e-6),\n",
    "                  loss='mse')\n",
    "    model.summary()\n",
    "\n",
    "    model.fit(train_data, train_label, epochs=100, callbacks=[tensorboard_callback], validation_data=(test_data, test_label), verbose = 0)\n",
    "\n",
    "    model.evaluate(test_data, test_label)\n",
    "    \n",
    "    return model"
   ]
  },
  {
   "cell_type": "code",
   "execution_count": null,
   "id": "provincial-tulsa",
   "metadata": {},
   "outputs": [],
   "source": [
    "def retrain(model, train_data, train_label, test_data, test_label):\n",
    "    model.fit(train_data, train_label, epochs=25, callbacks=[tensorboard_callback], validation_data=(test_data, test_label), verbose = 0)\n",
    "    return model"
   ]
  },
  {
   "cell_type": "code",
   "execution_count": null,
   "id": "controlling-assumption",
   "metadata": {},
   "outputs": [],
   "source": [
    "def plot(model_predict, test_label, predict_train, train_label, i, name):\n",
    "    global SITE_CODE\n",
    "    fig, axes = plt.subplots(4, 1)\n",
    "    error = model_predict.T[0] - test_label\n",
    "    axes[0].plot((-error))\n",
    "    axes[1].plot(test_label, \"r\")\n",
    "    axes[1].plot(model_predict, \"g\")\n",
    "    \n",
    "    print(predict_train.shape)\n",
    "    \n",
    "    error = predict_train.T[0] - train_label\n",
    "    axes[2].plot((-error))\n",
    "    axes[3].plot(train_label, \"r\")\n",
    "    axes[3].plot(predict_train, \"g\")\n",
    "    plt.xlabel(f\"data {name} imf {i} from %s\"%SITE_CODE)\n",
    "    plt.ylabel(\"Temperature/F\")\n",
    "    plt.gcf().set_size_inches(14, 20)\n",
    "    plt.savefig(f\"./fig/Error_{name}_imf{i}_%s.jpg\"%SITE_CODE)\n",
    "    plt.show()"
   ]
  },
  {
   "cell_type": "code",
   "execution_count": null,
   "id": "sticky-scanner",
   "metadata": {
    "scrolled": false
   },
   "outputs": [],
   "source": [
    "name = \"combine_3_data\"\n",
    "error = []\n",
    "train_set_avg = np.load(f\"./npy/avg_%s.npy\"%SITE_CODE)\n",
    "train_set_min = np.load(f\"./npy/min_%s.npy\"%SITE_CODE)\n",
    "train_set_max = np.load(f\"./npy/max_%s.npy\"%SITE_CODE)\n",
    "\n",
    "print(train_set_max[3][432] == train_set_avg[3][432])\n",
    "tf.keras.backend.clear_session()\n",
    "\n",
    "for i in range(len(train_set_avg)-10):\n",
    "    train_sub_avg = train_set_avg[i]\n",
    "    train_sub_min = train_set_min[i]\n",
    "    train_sub_max = train_set_max[i]\n",
    "    \n",
    "    train_index = int(len(train_set_avg[0])*.7+5/9)\n",
    "    \n",
    "    (train_data_avg, train_label), (test_data_avg, test_label) = publicMethod.generate(train_index, train_sub_avg)\n",
    "    (train_data_min, _), (test_data_min, _) = publicMethod.generate(train_index, train_sub_min)\n",
    "    (train_data_max, _), (test_data_max, _) = publicMethod.generate(train_index, train_sub_max)\n",
    "\n",
    "    train_data = np.concatenate([train_data_avg, train_data_min, train_data_max], axis = 1)\n",
    "    test_data = np.concatenate([test_data_avg, test_data_min, test_data_max], axis = 1)\n",
    "    \n",
    "    # print(train_data_avg[0] == train_data_min[0], train_set[0])\n",
    "    \n",
    "    model = construct_model(train_data, train_label, test_data, test_label)\n",
    "    \n",
    "    mse_test = np.sum((model.predict(test_data) - test_label.reshape(-1, 1))**2)/len(test_label)\n",
    "    mse_train = np.sum((model.predict(train_data) - train_label.reshape(-1, 1))**2)/len(train_label)\n",
    "    \n",
    "    fail_safe, index = True, 0\n",
    "    base_line = np.sum((train_sub_avg[1:] - train_sub_avg[:-1])**2)/(len(train_sub_avg)-1)\n",
    "    \n",
    "    while mse_test >= base_line/(len(train_set_avg)-i+1) and fail_safe:\n",
    "        print(\"-------------------------------------------------------------------\")\n",
    "        index += 1\n",
    "        print(f\"\\bEpoch:{index}\\nMSE\\nTRAIN:{mse_train}\\tTEST:{mse_test}\\nBase_line:{base_line}\\tDIFFERENT:{abs(base_line - mse_test)}\\nTARGET:{base_line/(len(train_set_avg)-i+1)}\\033[0m\")\n",
    "        model = retrain(model, train_data, train_label, test_data, test_label)\n",
    "        mse_test = np.sum((model.predict(test_data) - test_label.reshape(-1, 1))**2)/len(test_label)\n",
    "        mse_train = np.sum((model.predict(train_data) - train_label.reshape(-1, 1))**2)/len(train_label)\n",
    "            \n",
    "        if index == 10:\n",
    "            fail_safe = False\n",
    "    \n",
    "    plot(model.predict(test_data), test_label, model.predict(train_data), train_label, i, name)\n",
    "    print(f\"\\bEpoch:{index}\\tERROR COUNT:\\tMSE\\nTRAIN:{mse_train}\\tTEST:{mse_test}\\nBase_line:{base_line}\\tDIFFERENT:{abs(base_line - mse_test)}\\nTARGET:{base_line/(len(train_set_avg)-i+1)}\")\n",
    "    error.append(np.sum(abs(model.predict(train_data) - train_label.reshape(-1, 1)))/len(train_label))\n",
    "        \n",
    "    tf.saved_model.save(model, SAVE_PATH+f'{SITE_CODE}_{name}_imf{i}.params')\n",
    "    print(\"-------------------------------------------------------------------\")\n",
    "    # tf.keras.backend.clear_session()\n",
    "\n",
    "plt.bar(range(len(error)), error)\n",
    "plt.xlabel(\"index of imf\")\n",
    "plt.ylabel(\"Error (MAE)\")\n",
    "plt.title(\"Error Comparision\")\n",
    "plt.savefig(f\"./fig/MAE_Error_Compare_{name}_%s.jpg\"%SITE_CODE)\n",
    "plt.show()"
   ]
  },
  {
   "cell_type": "code",
   "execution_count": null,
   "id": "successful-shooting",
   "metadata": {},
   "outputs": [],
   "source": [
    "%tensorboard --logdir logs/scalars"
   ]
  },
  {
   "cell_type": "code",
   "execution_count": null,
   "id": "large-harassment",
   "metadata": {},
   "outputs": [],
   "source": []
  }
 ],
 "metadata": {
  "kernelspec": {
   "display_name": "Python 3",
   "language": "python",
   "name": "python3"
  },
  "language_info": {
   "codemirror_mode": {
    "name": "ipython",
    "version": 3
   },
   "file_extension": ".py",
   "mimetype": "text/x-python",
   "name": "python",
   "nbconvert_exporter": "python",
   "pygments_lexer": "ipython3",
   "version": "3.7.9"
  }
 },
 "nbformat": 4,
 "nbformat_minor": 5
}
