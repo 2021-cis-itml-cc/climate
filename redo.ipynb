{
 "cells": [
  {
   "cell_type": "code",
   "execution_count": 3,
   "id": "higher-comfort",
   "metadata": {},
   "outputs": [],
   "source": [
    "import tensorflow as tf\n",
    "from publicMethod import *"
   ]
  },
  {
   "cell_type": "code",
   "execution_count": 4,
   "id": "dimensional-grant",
   "metadata": {},
   "outputs": [],
   "source": [
    "file_name = \"data/GSOD_2021/010010-99999-2021.op\"\n",
    "avg_data, min_data, max_data = open_file(file_name)\n",
    "(train_data, train_label), (test_data, test_label) = generate(int(0.75*len(avg_data)), avg_data)"
   ]
  },
  {
   "cell_type": "code",
   "execution_count": 15,
   "id": "noted-acquisition",
   "metadata": {},
   "outputs": [
    {
     "data": {
      "text/plain": [
       "((150, 7),\n",
       " (150,),\n",
       " '',\n",
       " array([[23.4, 31.5, 35. , 35.4, 27.5, 23.6, 18.7],\n",
       "        [31.5, 35. , 35.4, 27.5, 23.6, 18.7, 26.9],\n",
       "        [35. , 35.4, 27.5, 23.6, 18.7, 26.9, 31.7],\n",
       "        [35.4, 27.5, 23.6, 18.7, 26.9, 31.7, 32.1],\n",
       "        [27.5, 23.6, 18.7, 26.9, 31.7, 32.1, 31.9],\n",
       "        [23.6, 18.7, 26.9, 31.7, 32.1, 31.9, 29.2],\n",
       "        [18.7, 26.9, 31.7, 32.1, 31.9, 29.2, 29.5],\n",
       "        [26.9, 31.7, 32.1, 31.9, 29.2, 29.5, 33.5],\n",
       "        [31.7, 32.1, 31.9, 29.2, 29.5, 33.5, 32.5],\n",
       "        [32.1, 31.9, 29.2, 29.5, 33.5, 32.5, 32.2]]),\n",
       " array([31.7, 32.1, 31.9, 29.2, 29.5, 33.5, 32.5, 32.2, 33.9, 29.2]))"
      ]
     },
     "execution_count": 15,
     "metadata": {},
     "output_type": "execute_result"
    }
   ],
   "source": [
    "train_data.shape, train_label.shape, \"\", train_data[0:10], train_label[:10]"
   ]
  },
  {
   "cell_type": "code",
   "execution_count": 24,
   "id": "special-given",
   "metadata": {},
   "outputs": [],
   "source": [
    "# 改变数据的形状以适合训练\n",
    "train_label = train_label.reshape(-1,1)\n",
    "test_label = test_label.reshape(-1, 1)"
   ]
  },
  {
   "cell_type": "code",
   "execution_count": 25,
   "id": "judicial-child",
   "metadata": {},
   "outputs": [
    {
     "data": {
      "text/plain": [
       "((150, 1),\n",
       " array([[31.7],\n",
       "        [32.1],\n",
       "        [31.9],\n",
       "        [29.2],\n",
       "        [29.5],\n",
       "        [33.5],\n",
       "        [32.5],\n",
       "        [32.2],\n",
       "        [33.9],\n",
       "        [29.2],\n",
       "        [27.3],\n",
       "        [30.2],\n",
       "        [28.7],\n",
       "        [29.8],\n",
       "        [26.5],\n",
       "        [21.8],\n",
       "        [25.9],\n",
       "        [30.2],\n",
       "        [30.1],\n",
       "        [27.2],\n",
       "        [25.8],\n",
       "        [28.2],\n",
       "        [28.5],\n",
       "        [27.5],\n",
       "        [23. ],\n",
       "        [26.9],\n",
       "        [30.1],\n",
       "        [31.4],\n",
       "        [30.9],\n",
       "        [26.3],\n",
       "        [24.5],\n",
       "        [28.4],\n",
       "        [25.5],\n",
       "        [33.3],\n",
       "        [36. ],\n",
       "        [35. ],\n",
       "        [35.4],\n",
       "        [36.5],\n",
       "        [36.3],\n",
       "        [36.7],\n",
       "        [36.1],\n",
       "        [35.8],\n",
       "        [32.8],\n",
       "        [30.3],\n",
       "        [26.4],\n",
       "        [27.1],\n",
       "        [33.6],\n",
       "        [35.6],\n",
       "        [29.6],\n",
       "        [20.1],\n",
       "        [17.7],\n",
       "        [25.9],\n",
       "        [21.3],\n",
       "        [16.4],\n",
       "        [24.8],\n",
       "        [30. ],\n",
       "        [33.8],\n",
       "        [32.6],\n",
       "        [32.2],\n",
       "        [29.2],\n",
       "        [31.1],\n",
       "        [32. ],\n",
       "        [27. ],\n",
       "        [25. ],\n",
       "        [28.8],\n",
       "        [38.3],\n",
       "        [30.4],\n",
       "        [21.6],\n",
       "        [28.5],\n",
       "        [31.5],\n",
       "        [18.7],\n",
       "        [17.2],\n",
       "        [17.5],\n",
       "        [29.7],\n",
       "        [25.7],\n",
       "        [26.5],\n",
       "        [33.8],\n",
       "        [29.3],\n",
       "        [30.3],\n",
       "        [27.4],\n",
       "        [28.2],\n",
       "        [21.8],\n",
       "        [16.6],\n",
       "        [18.3],\n",
       "        [18.8],\n",
       "        [18.6],\n",
       "        [20.5],\n",
       "        [24.5],\n",
       "        [26.6],\n",
       "        [25. ],\n",
       "        [29.5],\n",
       "        [27.4],\n",
       "        [29.6],\n",
       "        [30.1],\n",
       "        [35.5],\n",
       "        [34.2],\n",
       "        [34.4],\n",
       "        [27.2],\n",
       "        [27.1],\n",
       "        [23.7],\n",
       "        [23. ],\n",
       "        [27.4],\n",
       "        [30.5],\n",
       "        [29. ],\n",
       "        [30.1],\n",
       "        [30.4],\n",
       "        [28.3],\n",
       "        [28.3],\n",
       "        [28.4],\n",
       "        [30.6],\n",
       "        [28.2],\n",
       "        [30.3],\n",
       "        [33.9],\n",
       "        [30.4],\n",
       "        [29.8],\n",
       "        [31.4],\n",
       "        [32.6],\n",
       "        [29.5],\n",
       "        [27.2],\n",
       "        [29.6],\n",
       "        [29.9],\n",
       "        [31.9],\n",
       "        [30.9],\n",
       "        [29.4],\n",
       "        [31. ],\n",
       "        [30.3],\n",
       "        [31.5],\n",
       "        [30.3],\n",
       "        [30.6],\n",
       "        [30.9],\n",
       "        [33.6],\n",
       "        [33.7],\n",
       "        [33.3],\n",
       "        [34.1],\n",
       "        [36.9],\n",
       "        [45.4],\n",
       "        [39.4],\n",
       "        [37.7],\n",
       "        [37.5],\n",
       "        [38.7],\n",
       "        [38.1],\n",
       "        [37.1],\n",
       "        [36.9],\n",
       "        [38. ],\n",
       "        [39.4],\n",
       "        [40.9],\n",
       "        [40.2],\n",
       "        [39.4],\n",
       "        [38.8],\n",
       "        [39.3]]))"
      ]
     },
     "execution_count": 25,
     "metadata": {},
     "output_type": "execute_result"
    }
   ],
   "source": [
    "train_label.shape, train_label"
   ]
  },
  {
   "cell_type": "code",
   "execution_count": 27,
   "id": "false-wound",
   "metadata": {},
   "outputs": [],
   "source": [
    "# 可调\n",
    "poly_coe = 20"
   ]
  },
  {
   "cell_type": "code",
   "execution_count": 31,
   "id": "studied-rates",
   "metadata": {},
   "outputs": [],
   "source": [
    "# 设置多项式的系数和常数项\n",
    "\n",
    "w = tf.Variable(tf.random.normal(shape=(poly_coe+1, 1), mean = 0, stddev=0.01), trainable=True)\n"
   ]
  },
  {
   "cell_type": "code",
   "execution_count": 32,
   "id": "looking-airline",
   "metadata": {},
   "outputs": [
    {
     "data": {
      "text/plain": [
       "<tf.Variable 'Variable:0' shape=(21, 1) dtype=float32, numpy=\n",
       "array([[-0.00144208],\n",
       "       [-0.00225611],\n",
       "       [-0.00171656],\n",
       "       [-0.01061656],\n",
       "       [ 0.01449835],\n",
       "       [-0.00307326],\n",
       "       [ 0.00963353],\n",
       "       [ 0.00401075],\n",
       "       [ 0.01192834],\n",
       "       [-0.00353739],\n",
       "       [ 0.00182234],\n",
       "       [ 0.01456929],\n",
       "       [ 0.01262105],\n",
       "       [ 0.00290134],\n",
       "       [-0.01439746],\n",
       "       [-0.00179042],\n",
       "       [-0.01026441],\n",
       "       [ 0.00411427],\n",
       "       [ 0.00017832],\n",
       "       [ 0.01348951],\n",
       "       [-0.00779494]], dtype=float32)>"
      ]
     },
     "execution_count": 32,
     "metadata": {},
     "output_type": "execute_result"
    }
   ],
   "source": [
    "w"
   ]
  },
  {
   "cell_type": "code",
   "execution_count": 33,
   "id": "super-deadline",
   "metadata": {},
   "outputs": [],
   "source": [
    "# 设置data iter updater\n",
    "def data_iter(batch_size, train_data, train_label):\n",
    "    number_data = len(train_data)\n",
    "    indices = list(range(number_data))\n",
    "    random.shuffle(indices)\n",
    "    for i in range(0, number_data, batch_size):\n",
    "        j = tf.constant(indices[i:min(i+batch_size, number_data)])\n",
    "        yield tf.gather(features, j), tf.gather(labels, j)"
   ]
  },
  {
   "cell_type": "code",
   "execution_count": null,
   "id": "israeli-minute",
   "metadata": {},
   "outputs": [],
   "source": []
  }
 ],
 "metadata": {
  "kernelspec": {
   "display_name": "Python 3",
   "language": "python",
   "name": "python3"
  },
  "language_info": {
   "codemirror_mode": {
    "name": "ipython",
    "version": 3
   },
   "file_extension": ".py",
   "mimetype": "text/x-python",
   "name": "python",
   "nbconvert_exporter": "python",
   "pygments_lexer": "ipython3",
   "version": "3.7.9"
  }
 },
 "nbformat": 4,
 "nbformat_minor": 5
}
